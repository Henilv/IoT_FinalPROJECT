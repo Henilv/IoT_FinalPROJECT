{
 "cells": [
  {
   "cell_type": "markdown",
   "id": "b253fbe7",
   "metadata": {},
   "source": [
    "## CIS-600 Intrusion Detection system - HENIL V.  "
   ]
  },
  {
   "cell_type": "markdown",
   "id": "8b456134",
   "metadata": {
    "papermill": {
     "duration": 0.01155,
     "end_time": "2022-09-16T14:45:28.767992",
     "exception": false,
     "start_time": "2022-09-16T14:45:28.756442",
     "status": "completed"
    },
    "tags": []
   },
   "source": [
    "## Importing necessary libraries"
   ]
  },
  {
   "cell_type": "code",
   "execution_count": 1,
   "id": "b3847e29",
   "metadata": {
    "execution": {
     "iopub.execute_input": "2022-09-16T14:45:28.793728Z",
     "iopub.status.busy": "2022-09-16T14:45:28.792911Z",
     "iopub.status.idle": "2022-09-16T14:45:38.207490Z",
     "shell.execute_reply": "2022-09-16T14:45:38.206342Z"
    },
    "papermill": {
     "duration": 9.430692,
     "end_time": "2022-09-16T14:45:38.210645",
     "exception": false,
     "start_time": "2022-09-16T14:45:28.779953",
     "status": "completed"
    },
    "tags": []
   },
   "outputs": [],
   "source": [
    "import numpy as np\n",
    "import pandas as pd\n",
    "import warnings\n",
    "import matplotlib.pyplot as plt\n",
    "import seaborn as sns\n",
    "import tensorflow as tf\n",
    "from tensorflow.keras import regularizers\n",
    "import xgboost as xgb\n",
    "from sklearn.decomposition import PCA\n",
    "from sklearn import tree\n",
    "from sklearn.naive_bayes import GaussianNB\n",
    "from sklearn.linear_model import LogisticRegression\n",
    "from sklearn.neighbors import KNeighborsClassifier\n",
    "from sklearn.tree import DecisionTreeClassifier\n",
    "from sklearn.preprocessing import RobustScaler\n",
    "from sklearn.ensemble import RandomForestClassifier, RandomForestRegressor\n",
    "from sklearn.model_selection import train_test_split\n",
    "from sklearn import svm\n",
    "from sklearn import metrics\n",
    "pd.set_option('display.max_columns',None)\n",
    "warnings.filterwarnings('ignore')\n",
    "%matplotlib inline "
   ]
  },
  {
   "cell_type": "markdown",
   "id": "ae5951d9",
   "metadata": {
    "papermill": {
     "duration": 0.010673,
     "end_time": "2022-09-16T14:45:38.234164",
     "exception": false,
     "start_time": "2022-09-16T14:45:38.223491",
     "status": "completed"
    },
    "tags": []
   },
   "source": [
    "## Exploring the dataset"
   ]
  },
  {
   "cell_type": "code",
   "execution_count": 2,
   "id": "54e4b9ed",
   "metadata": {
    "execution": {
     "iopub.execute_input": "2022-09-16T14:45:38.259549Z",
     "iopub.status.busy": "2022-09-16T14:45:38.258656Z",
     "iopub.status.idle": "2022-09-16T14:45:39.217951Z",
     "shell.execute_reply": "2022-09-16T14:45:39.216543Z"
    },
    "papermill": {
     "duration": 0.97535,
     "end_time": "2022-09-16T14:45:39.220940",
     "exception": false,
     "start_time": "2022-09-16T14:45:38.245590",
     "status": "completed"
    },
    "tags": []
   },
   "outputs": [],
   "source": [
    "# Read Train and Test dataset\n",
    "data_train = pd.read_csv(\"henilv/input/nslkdd/KDDTrain+.txt\")"
   ]
  },
  {
   "cell_type": "code",
   "execution_count": 3,
   "id": "51739dcb",
   "metadata": {
    "execution": {
     "iopub.execute_input": "2022-09-16T14:45:39.245601Z",
     "iopub.status.busy": "2022-09-16T14:45:39.245132Z",
     "iopub.status.idle": "2022-09-16T14:45:39.291376Z",
     "shell.execute_reply": "2022-09-16T14:45:39.290009Z"
    },
    "papermill": {
     "duration": 0.062858,
     "end_time": "2022-09-16T14:45:39.295130",
     "exception": false,
     "start_time": "2022-09-16T14:45:39.232272",
     "status": "completed"
    },
    "scrolled": true,
    "tags": []
   },
   "outputs": [
    {
     "data": {
      "text/html": [
       "<div>\n",
       "<style scoped>\n",
       "    .dataframe tbody tr th:only-of-type {\n",
       "        vertical-align: middle;\n",
       "    }\n",
       "\n",
       "    .dataframe tbody tr th {\n",
       "        vertical-align: top;\n",
       "    }\n",
       "\n",
       "    .dataframe thead th {\n",
       "        text-align: right;\n",
       "    }\n",
       "</style>\n",
       "<table border=\"1\" class=\"dataframe\">\n",
       "  <thead>\n",
       "    <tr style=\"text-align: right;\">\n",
       "      <th></th>\n",
       "      <th>0</th>\n",
       "      <th>tcp</th>\n",
       "      <th>ftp_data</th>\n",
       "      <th>SF</th>\n",
       "      <th>491</th>\n",
       "      <th>0.1</th>\n",
       "      <th>0.2</th>\n",
       "      <th>0.3</th>\n",
       "      <th>0.4</th>\n",
       "      <th>0.5</th>\n",
       "      <th>0.6</th>\n",
       "      <th>0.7</th>\n",
       "      <th>0.8</th>\n",
       "      <th>0.9</th>\n",
       "      <th>0.10</th>\n",
       "      <th>0.11</th>\n",
       "      <th>0.12</th>\n",
       "      <th>0.13</th>\n",
       "      <th>0.14</th>\n",
       "      <th>0.15</th>\n",
       "      <th>0.16</th>\n",
       "      <th>0.17</th>\n",
       "      <th>2</th>\n",
       "      <th>2.1</th>\n",
       "      <th>0.00</th>\n",
       "      <th>0.00.1</th>\n",
       "      <th>0.00.2</th>\n",
       "      <th>0.00.3</th>\n",
       "      <th>1.00</th>\n",
       "      <th>0.00.4</th>\n",
       "      <th>0.00.5</th>\n",
       "      <th>150</th>\n",
       "      <th>25</th>\n",
       "      <th>0.17.1</th>\n",
       "      <th>0.03</th>\n",
       "      <th>0.17.2</th>\n",
       "      <th>0.00.6</th>\n",
       "      <th>0.00.7</th>\n",
       "      <th>0.00.8</th>\n",
       "      <th>0.05</th>\n",
       "      <th>0.00.9</th>\n",
       "      <th>normal</th>\n",
       "      <th>20</th>\n",
       "    </tr>\n",
       "  </thead>\n",
       "  <tbody>\n",
       "    <tr>\n",
       "      <th>0</th>\n",
       "      <td>0</td>\n",
       "      <td>udp</td>\n",
       "      <td>other</td>\n",
       "      <td>SF</td>\n",
       "      <td>146</td>\n",
       "      <td>0</td>\n",
       "      <td>0</td>\n",
       "      <td>0</td>\n",
       "      <td>0</td>\n",
       "      <td>0</td>\n",
       "      <td>0</td>\n",
       "      <td>0</td>\n",
       "      <td>0</td>\n",
       "      <td>0</td>\n",
       "      <td>0</td>\n",
       "      <td>0</td>\n",
       "      <td>0</td>\n",
       "      <td>0</td>\n",
       "      <td>0</td>\n",
       "      <td>0</td>\n",
       "      <td>0</td>\n",
       "      <td>0</td>\n",
       "      <td>13</td>\n",
       "      <td>1</td>\n",
       "      <td>0.0</td>\n",
       "      <td>0.0</td>\n",
       "      <td>0.0</td>\n",
       "      <td>0.0</td>\n",
       "      <td>0.08</td>\n",
       "      <td>0.15</td>\n",
       "      <td>0.00</td>\n",
       "      <td>255</td>\n",
       "      <td>1</td>\n",
       "      <td>0.00</td>\n",
       "      <td>0.60</td>\n",
       "      <td>0.88</td>\n",
       "      <td>0.00</td>\n",
       "      <td>0.00</td>\n",
       "      <td>0.00</td>\n",
       "      <td>0.0</td>\n",
       "      <td>0.00</td>\n",
       "      <td>normal</td>\n",
       "      <td>15</td>\n",
       "    </tr>\n",
       "    <tr>\n",
       "      <th>1</th>\n",
       "      <td>0</td>\n",
       "      <td>tcp</td>\n",
       "      <td>private</td>\n",
       "      <td>S0</td>\n",
       "      <td>0</td>\n",
       "      <td>0</td>\n",
       "      <td>0</td>\n",
       "      <td>0</td>\n",
       "      <td>0</td>\n",
       "      <td>0</td>\n",
       "      <td>0</td>\n",
       "      <td>0</td>\n",
       "      <td>0</td>\n",
       "      <td>0</td>\n",
       "      <td>0</td>\n",
       "      <td>0</td>\n",
       "      <td>0</td>\n",
       "      <td>0</td>\n",
       "      <td>0</td>\n",
       "      <td>0</td>\n",
       "      <td>0</td>\n",
       "      <td>0</td>\n",
       "      <td>123</td>\n",
       "      <td>6</td>\n",
       "      <td>1.0</td>\n",
       "      <td>1.0</td>\n",
       "      <td>0.0</td>\n",
       "      <td>0.0</td>\n",
       "      <td>0.05</td>\n",
       "      <td>0.07</td>\n",
       "      <td>0.00</td>\n",
       "      <td>255</td>\n",
       "      <td>26</td>\n",
       "      <td>0.10</td>\n",
       "      <td>0.05</td>\n",
       "      <td>0.00</td>\n",
       "      <td>0.00</td>\n",
       "      <td>1.00</td>\n",
       "      <td>1.00</td>\n",
       "      <td>0.0</td>\n",
       "      <td>0.00</td>\n",
       "      <td>neptune</td>\n",
       "      <td>19</td>\n",
       "    </tr>\n",
       "    <tr>\n",
       "      <th>2</th>\n",
       "      <td>0</td>\n",
       "      <td>tcp</td>\n",
       "      <td>http</td>\n",
       "      <td>SF</td>\n",
       "      <td>232</td>\n",
       "      <td>8153</td>\n",
       "      <td>0</td>\n",
       "      <td>0</td>\n",
       "      <td>0</td>\n",
       "      <td>0</td>\n",
       "      <td>0</td>\n",
       "      <td>1</td>\n",
       "      <td>0</td>\n",
       "      <td>0</td>\n",
       "      <td>0</td>\n",
       "      <td>0</td>\n",
       "      <td>0</td>\n",
       "      <td>0</td>\n",
       "      <td>0</td>\n",
       "      <td>0</td>\n",
       "      <td>0</td>\n",
       "      <td>0</td>\n",
       "      <td>5</td>\n",
       "      <td>5</td>\n",
       "      <td>0.2</td>\n",
       "      <td>0.2</td>\n",
       "      <td>0.0</td>\n",
       "      <td>0.0</td>\n",
       "      <td>1.00</td>\n",
       "      <td>0.00</td>\n",
       "      <td>0.00</td>\n",
       "      <td>30</td>\n",
       "      <td>255</td>\n",
       "      <td>1.00</td>\n",
       "      <td>0.00</td>\n",
       "      <td>0.03</td>\n",
       "      <td>0.04</td>\n",
       "      <td>0.03</td>\n",
       "      <td>0.01</td>\n",
       "      <td>0.0</td>\n",
       "      <td>0.01</td>\n",
       "      <td>normal</td>\n",
       "      <td>21</td>\n",
       "    </tr>\n",
       "    <tr>\n",
       "      <th>3</th>\n",
       "      <td>0</td>\n",
       "      <td>tcp</td>\n",
       "      <td>http</td>\n",
       "      <td>SF</td>\n",
       "      <td>199</td>\n",
       "      <td>420</td>\n",
       "      <td>0</td>\n",
       "      <td>0</td>\n",
       "      <td>0</td>\n",
       "      <td>0</td>\n",
       "      <td>0</td>\n",
       "      <td>1</td>\n",
       "      <td>0</td>\n",
       "      <td>0</td>\n",
       "      <td>0</td>\n",
       "      <td>0</td>\n",
       "      <td>0</td>\n",
       "      <td>0</td>\n",
       "      <td>0</td>\n",
       "      <td>0</td>\n",
       "      <td>0</td>\n",
       "      <td>0</td>\n",
       "      <td>30</td>\n",
       "      <td>32</td>\n",
       "      <td>0.0</td>\n",
       "      <td>0.0</td>\n",
       "      <td>0.0</td>\n",
       "      <td>0.0</td>\n",
       "      <td>1.00</td>\n",
       "      <td>0.00</td>\n",
       "      <td>0.09</td>\n",
       "      <td>255</td>\n",
       "      <td>255</td>\n",
       "      <td>1.00</td>\n",
       "      <td>0.00</td>\n",
       "      <td>0.00</td>\n",
       "      <td>0.00</td>\n",
       "      <td>0.00</td>\n",
       "      <td>0.00</td>\n",
       "      <td>0.0</td>\n",
       "      <td>0.00</td>\n",
       "      <td>normal</td>\n",
       "      <td>21</td>\n",
       "    </tr>\n",
       "    <tr>\n",
       "      <th>4</th>\n",
       "      <td>0</td>\n",
       "      <td>tcp</td>\n",
       "      <td>private</td>\n",
       "      <td>REJ</td>\n",
       "      <td>0</td>\n",
       "      <td>0</td>\n",
       "      <td>0</td>\n",
       "      <td>0</td>\n",
       "      <td>0</td>\n",
       "      <td>0</td>\n",
       "      <td>0</td>\n",
       "      <td>0</td>\n",
       "      <td>0</td>\n",
       "      <td>0</td>\n",
       "      <td>0</td>\n",
       "      <td>0</td>\n",
       "      <td>0</td>\n",
       "      <td>0</td>\n",
       "      <td>0</td>\n",
       "      <td>0</td>\n",
       "      <td>0</td>\n",
       "      <td>0</td>\n",
       "      <td>121</td>\n",
       "      <td>19</td>\n",
       "      <td>0.0</td>\n",
       "      <td>0.0</td>\n",
       "      <td>1.0</td>\n",
       "      <td>1.0</td>\n",
       "      <td>0.16</td>\n",
       "      <td>0.06</td>\n",
       "      <td>0.00</td>\n",
       "      <td>255</td>\n",
       "      <td>19</td>\n",
       "      <td>0.07</td>\n",
       "      <td>0.07</td>\n",
       "      <td>0.00</td>\n",
       "      <td>0.00</td>\n",
       "      <td>0.00</td>\n",
       "      <td>0.00</td>\n",
       "      <td>1.0</td>\n",
       "      <td>1.00</td>\n",
       "      <td>neptune</td>\n",
       "      <td>21</td>\n",
       "    </tr>\n",
       "  </tbody>\n",
       "</table>\n",
       "</div>"
      ],
      "text/plain": [
       "   0  tcp ftp_data   SF  491   0.1  0.2  0.3  0.4  0.5  0.6  0.7  0.8  0.9  \\\n",
       "0  0  udp    other   SF  146     0    0    0    0    0    0    0    0    0   \n",
       "1  0  tcp  private   S0    0     0    0    0    0    0    0    0    0    0   \n",
       "2  0  tcp     http   SF  232  8153    0    0    0    0    0    1    0    0   \n",
       "3  0  tcp     http   SF  199   420    0    0    0    0    0    1    0    0   \n",
       "4  0  tcp  private  REJ    0     0    0    0    0    0    0    0    0    0   \n",
       "\n",
       "   0.10  0.11  0.12  0.13  0.14  0.15  0.16  0.17    2  2.1  0.00  0.00.1  \\\n",
       "0     0     0     0     0     0     0     0     0   13    1   0.0     0.0   \n",
       "1     0     0     0     0     0     0     0     0  123    6   1.0     1.0   \n",
       "2     0     0     0     0     0     0     0     0    5    5   0.2     0.2   \n",
       "3     0     0     0     0     0     0     0     0   30   32   0.0     0.0   \n",
       "4     0     0     0     0     0     0     0     0  121   19   0.0     0.0   \n",
       "\n",
       "   0.00.2  0.00.3  1.00  0.00.4  0.00.5  150   25  0.17.1  0.03  0.17.2  \\\n",
       "0     0.0     0.0  0.08    0.15    0.00  255    1    0.00  0.60    0.88   \n",
       "1     0.0     0.0  0.05    0.07    0.00  255   26    0.10  0.05    0.00   \n",
       "2     0.0     0.0  1.00    0.00    0.00   30  255    1.00  0.00    0.03   \n",
       "3     0.0     0.0  1.00    0.00    0.09  255  255    1.00  0.00    0.00   \n",
       "4     1.0     1.0  0.16    0.06    0.00  255   19    0.07  0.07    0.00   \n",
       "\n",
       "   0.00.6  0.00.7  0.00.8  0.05  0.00.9   normal  20  \n",
       "0    0.00    0.00    0.00   0.0    0.00   normal  15  \n",
       "1    0.00    1.00    1.00   0.0    0.00  neptune  19  \n",
       "2    0.04    0.03    0.01   0.0    0.01   normal  21  \n",
       "3    0.00    0.00    0.00   0.0    0.00   normal  21  \n",
       "4    0.00    0.00    0.00   1.0    1.00  neptune  21  "
      ]
     },
     "execution_count": 3,
     "metadata": {},
     "output_type": "execute_result"
    }
   ],
   "source": [
    "# Check data\n",
    "data_train.head()"
   ]
  },
  {
   "cell_type": "code",
   "execution_count": 5,
   "id": "1e7f1d02",
   "metadata": {
    "execution": {
     "iopub.execute_input": "2022-09-16T14:45:39.355732Z",
     "iopub.status.busy": "2022-09-16T14:45:39.355226Z",
     "iopub.status.idle": "2022-09-16T14:45:39.360548Z",
     "shell.execute_reply": "2022-09-16T14:45:39.359583Z"
    },
    "papermill": {
     "duration": 0.02059,
     "end_time": "2022-09-16T14:45:39.362835",
     "exception": false,
     "start_time": "2022-09-16T14:45:39.342245",
     "status": "completed"
    },
    "tags": []
   },
   "outputs": [],
   "source": [
    "# Assign name for columns\n",
    "data_train.columns = columns"
   ]
  },
  {
   "cell_type": "code",
   "execution_count": 6,
   "id": "87ecd0a3",
   "metadata": {
    "execution": {
     "iopub.execute_input": "2022-09-16T14:45:39.389367Z",
     "iopub.status.busy": "2022-09-16T14:45:39.388432Z",
     "iopub.status.idle": "2022-09-16T14:45:39.426802Z",
     "shell.execute_reply": "2022-09-16T14:45:39.425913Z"
    },
    "papermill": {
     "duration": 0.054556,
     "end_time": "2022-09-16T14:45:39.429269",
     "exception": false,
     "start_time": "2022-09-16T14:45:39.374713",
     "status": "completed"
    },
    "tags": []
   },
   "outputs": [
    {
     "data": {
      "text/html": [
       "<div>\n",
       "<style scoped>\n",
       "    .dataframe tbody tr th:only-of-type {\n",
       "        vertical-align: middle;\n",
       "    }\n",
       "\n",
       "    .dataframe tbody tr th {\n",
       "        vertical-align: top;\n",
       "    }\n",
       "\n",
       "    .dataframe thead th {\n",
       "        text-align: right;\n",
       "    }\n",
       "</style>\n",
       "<table border=\"1\" class=\"dataframe\">\n",
       "  <thead>\n",
       "    <tr style=\"text-align: right;\">\n",
       "      <th></th>\n",
       "      <th>duration</th>\n",
       "      <th>protocol_type</th>\n",
       "      <th>service</th>\n",
       "      <th>flag</th>\n",
       "      <th>src_bytes</th>\n",
       "      <th>dst_bytes</th>\n",
       "      <th>land</th>\n",
       "      <th>wrong_fragment</th>\n",
       "      <th>urgent</th>\n",
       "      <th>hot</th>\n",
       "      <th>num_failed_logins</th>\n",
       "      <th>logged_in</th>\n",
       "      <th>num_compromised</th>\n",
       "      <th>root_shell</th>\n",
       "      <th>su_attempted</th>\n",
       "      <th>num_root</th>\n",
       "      <th>num_file_creations</th>\n",
       "      <th>num_shells</th>\n",
       "      <th>num_access_files</th>\n",
       "      <th>num_outbound_cmds</th>\n",
       "      <th>is_host_login</th>\n",
       "      <th>is_guest_login</th>\n",
       "      <th>count</th>\n",
       "      <th>srv_count</th>\n",
       "      <th>serror_rate</th>\n",
       "      <th>srv_serror_rate</th>\n",
       "      <th>rerror_rate</th>\n",
       "      <th>srv_rerror_rate</th>\n",
       "      <th>same_srv_rate</th>\n",
       "      <th>diff_srv_rate</th>\n",
       "      <th>srv_diff_host_rate</th>\n",
       "      <th>dst_host_count</th>\n",
       "      <th>dst_host_srv_count</th>\n",
       "      <th>dst_host_same_srv_rate</th>\n",
       "      <th>dst_host_diff_srv_rate</th>\n",
       "      <th>dst_host_same_src_port_rate</th>\n",
       "      <th>dst_host_srv_diff_host_rate</th>\n",
       "      <th>dst_host_serror_rate</th>\n",
       "      <th>dst_host_srv_serror_rate</th>\n",
       "      <th>dst_host_rerror_rate</th>\n",
       "      <th>dst_host_srv_rerror_rate</th>\n",
       "      <th>outcome</th>\n",
       "      <th>level</th>\n",
       "    </tr>\n",
       "  </thead>\n",
       "  <tbody>\n",
       "    <tr>\n",
       "      <th>0</th>\n",
       "      <td>0</td>\n",
       "      <td>udp</td>\n",
       "      <td>other</td>\n",
       "      <td>SF</td>\n",
       "      <td>146</td>\n",
       "      <td>0</td>\n",
       "      <td>0</td>\n",
       "      <td>0</td>\n",
       "      <td>0</td>\n",
       "      <td>0</td>\n",
       "      <td>0</td>\n",
       "      <td>0</td>\n",
       "      <td>0</td>\n",
       "      <td>0</td>\n",
       "      <td>0</td>\n",
       "      <td>0</td>\n",
       "      <td>0</td>\n",
       "      <td>0</td>\n",
       "      <td>0</td>\n",
       "      <td>0</td>\n",
       "      <td>0</td>\n",
       "      <td>0</td>\n",
       "      <td>13</td>\n",
       "      <td>1</td>\n",
       "      <td>0.0</td>\n",
       "      <td>0.0</td>\n",
       "      <td>0.0</td>\n",
       "      <td>0.0</td>\n",
       "      <td>0.08</td>\n",
       "      <td>0.15</td>\n",
       "      <td>0.00</td>\n",
       "      <td>255</td>\n",
       "      <td>1</td>\n",
       "      <td>0.00</td>\n",
       "      <td>0.60</td>\n",
       "      <td>0.88</td>\n",
       "      <td>0.00</td>\n",
       "      <td>0.00</td>\n",
       "      <td>0.00</td>\n",
       "      <td>0.0</td>\n",
       "      <td>0.00</td>\n",
       "      <td>normal</td>\n",
       "      <td>15</td>\n",
       "    </tr>\n",
       "    <tr>\n",
       "      <th>1</th>\n",
       "      <td>0</td>\n",
       "      <td>tcp</td>\n",
       "      <td>private</td>\n",
       "      <td>S0</td>\n",
       "      <td>0</td>\n",
       "      <td>0</td>\n",
       "      <td>0</td>\n",
       "      <td>0</td>\n",
       "      <td>0</td>\n",
       "      <td>0</td>\n",
       "      <td>0</td>\n",
       "      <td>0</td>\n",
       "      <td>0</td>\n",
       "      <td>0</td>\n",
       "      <td>0</td>\n",
       "      <td>0</td>\n",
       "      <td>0</td>\n",
       "      <td>0</td>\n",
       "      <td>0</td>\n",
       "      <td>0</td>\n",
       "      <td>0</td>\n",
       "      <td>0</td>\n",
       "      <td>123</td>\n",
       "      <td>6</td>\n",
       "      <td>1.0</td>\n",
       "      <td>1.0</td>\n",
       "      <td>0.0</td>\n",
       "      <td>0.0</td>\n",
       "      <td>0.05</td>\n",
       "      <td>0.07</td>\n",
       "      <td>0.00</td>\n",
       "      <td>255</td>\n",
       "      <td>26</td>\n",
       "      <td>0.10</td>\n",
       "      <td>0.05</td>\n",
       "      <td>0.00</td>\n",
       "      <td>0.00</td>\n",
       "      <td>1.00</td>\n",
       "      <td>1.00</td>\n",
       "      <td>0.0</td>\n",
       "      <td>0.00</td>\n",
       "      <td>neptune</td>\n",
       "      <td>19</td>\n",
       "    </tr>\n",
       "    <tr>\n",
       "      <th>2</th>\n",
       "      <td>0</td>\n",
       "      <td>tcp</td>\n",
       "      <td>http</td>\n",
       "      <td>SF</td>\n",
       "      <td>232</td>\n",
       "      <td>8153</td>\n",
       "      <td>0</td>\n",
       "      <td>0</td>\n",
       "      <td>0</td>\n",
       "      <td>0</td>\n",
       "      <td>0</td>\n",
       "      <td>1</td>\n",
       "      <td>0</td>\n",
       "      <td>0</td>\n",
       "      <td>0</td>\n",
       "      <td>0</td>\n",
       "      <td>0</td>\n",
       "      <td>0</td>\n",
       "      <td>0</td>\n",
       "      <td>0</td>\n",
       "      <td>0</td>\n",
       "      <td>0</td>\n",
       "      <td>5</td>\n",
       "      <td>5</td>\n",
       "      <td>0.2</td>\n",
       "      <td>0.2</td>\n",
       "      <td>0.0</td>\n",
       "      <td>0.0</td>\n",
       "      <td>1.00</td>\n",
       "      <td>0.00</td>\n",
       "      <td>0.00</td>\n",
       "      <td>30</td>\n",
       "      <td>255</td>\n",
       "      <td>1.00</td>\n",
       "      <td>0.00</td>\n",
       "      <td>0.03</td>\n",
       "      <td>0.04</td>\n",
       "      <td>0.03</td>\n",
       "      <td>0.01</td>\n",
       "      <td>0.0</td>\n",
       "      <td>0.01</td>\n",
       "      <td>normal</td>\n",
       "      <td>21</td>\n",
       "    </tr>\n",
       "    <tr>\n",
       "      <th>3</th>\n",
       "      <td>0</td>\n",
       "      <td>tcp</td>\n",
       "      <td>http</td>\n",
       "      <td>SF</td>\n",
       "      <td>199</td>\n",
       "      <td>420</td>\n",
       "      <td>0</td>\n",
       "      <td>0</td>\n",
       "      <td>0</td>\n",
       "      <td>0</td>\n",
       "      <td>0</td>\n",
       "      <td>1</td>\n",
       "      <td>0</td>\n",
       "      <td>0</td>\n",
       "      <td>0</td>\n",
       "      <td>0</td>\n",
       "      <td>0</td>\n",
       "      <td>0</td>\n",
       "      <td>0</td>\n",
       "      <td>0</td>\n",
       "      <td>0</td>\n",
       "      <td>0</td>\n",
       "      <td>30</td>\n",
       "      <td>32</td>\n",
       "      <td>0.0</td>\n",
       "      <td>0.0</td>\n",
       "      <td>0.0</td>\n",
       "      <td>0.0</td>\n",
       "      <td>1.00</td>\n",
       "      <td>0.00</td>\n",
       "      <td>0.09</td>\n",
       "      <td>255</td>\n",
       "      <td>255</td>\n",
       "      <td>1.00</td>\n",
       "      <td>0.00</td>\n",
       "      <td>0.00</td>\n",
       "      <td>0.00</td>\n",
       "      <td>0.00</td>\n",
       "      <td>0.00</td>\n",
       "      <td>0.0</td>\n",
       "      <td>0.00</td>\n",
       "      <td>normal</td>\n",
       "      <td>21</td>\n",
       "    </tr>\n",
       "    <tr>\n",
       "      <th>4</th>\n",
       "      <td>0</td>\n",
       "      <td>tcp</td>\n",
       "      <td>private</td>\n",
       "      <td>REJ</td>\n",
       "      <td>0</td>\n",
       "      <td>0</td>\n",
       "      <td>0</td>\n",
       "      <td>0</td>\n",
       "      <td>0</td>\n",
       "      <td>0</td>\n",
       "      <td>0</td>\n",
       "      <td>0</td>\n",
       "      <td>0</td>\n",
       "      <td>0</td>\n",
       "      <td>0</td>\n",
       "      <td>0</td>\n",
       "      <td>0</td>\n",
       "      <td>0</td>\n",
       "      <td>0</td>\n",
       "      <td>0</td>\n",
       "      <td>0</td>\n",
       "      <td>0</td>\n",
       "      <td>121</td>\n",
       "      <td>19</td>\n",
       "      <td>0.0</td>\n",
       "      <td>0.0</td>\n",
       "      <td>1.0</td>\n",
       "      <td>1.0</td>\n",
       "      <td>0.16</td>\n",
       "      <td>0.06</td>\n",
       "      <td>0.00</td>\n",
       "      <td>255</td>\n",
       "      <td>19</td>\n",
       "      <td>0.07</td>\n",
       "      <td>0.07</td>\n",
       "      <td>0.00</td>\n",
       "      <td>0.00</td>\n",
       "      <td>0.00</td>\n",
       "      <td>0.00</td>\n",
       "      <td>1.0</td>\n",
       "      <td>1.00</td>\n",
       "      <td>neptune</td>\n",
       "      <td>21</td>\n",
       "    </tr>\n",
       "  </tbody>\n",
       "</table>\n",
       "</div>"
      ],
      "text/plain": [
       "   duration protocol_type  service flag  src_bytes  dst_bytes  land  \\\n",
       "0         0           udp    other   SF        146          0     0   \n",
       "1         0           tcp  private   S0          0          0     0   \n",
       "2         0           tcp     http   SF        232       8153     0   \n",
       "3         0           tcp     http   SF        199        420     0   \n",
       "4         0           tcp  private  REJ          0          0     0   \n",
       "\n",
       "   wrong_fragment  urgent  hot  num_failed_logins  logged_in  num_compromised  \\\n",
       "0               0       0    0                  0          0                0   \n",
       "1               0       0    0                  0          0                0   \n",
       "2               0       0    0                  0          1                0   \n",
       "3               0       0    0                  0          1                0   \n",
       "4               0       0    0                  0          0                0   \n",
       "\n",
       "   root_shell  su_attempted  num_root  num_file_creations  num_shells  \\\n",
       "0           0             0         0                   0           0   \n",
       "1           0             0         0                   0           0   \n",
       "2           0             0         0                   0           0   \n",
       "3           0             0         0                   0           0   \n",
       "4           0             0         0                   0           0   \n",
       "\n",
       "   num_access_files  num_outbound_cmds  is_host_login  is_guest_login  count  \\\n",
       "0                 0                  0              0               0     13   \n",
       "1                 0                  0              0               0    123   \n",
       "2                 0                  0              0               0      5   \n",
       "3                 0                  0              0               0     30   \n",
       "4                 0                  0              0               0    121   \n",
       "\n",
       "   srv_count  serror_rate  srv_serror_rate  rerror_rate  srv_rerror_rate  \\\n",
       "0          1          0.0              0.0          0.0              0.0   \n",
       "1          6          1.0              1.0          0.0              0.0   \n",
       "2          5          0.2              0.2          0.0              0.0   \n",
       "3         32          0.0              0.0          0.0              0.0   \n",
       "4         19          0.0              0.0          1.0              1.0   \n",
       "\n",
       "   same_srv_rate  diff_srv_rate  srv_diff_host_rate  dst_host_count  \\\n",
       "0           0.08           0.15                0.00             255   \n",
       "1           0.05           0.07                0.00             255   \n",
       "2           1.00           0.00                0.00              30   \n",
       "3           1.00           0.00                0.09             255   \n",
       "4           0.16           0.06                0.00             255   \n",
       "\n",
       "   dst_host_srv_count  dst_host_same_srv_rate  dst_host_diff_srv_rate  \\\n",
       "0                   1                    0.00                    0.60   \n",
       "1                  26                    0.10                    0.05   \n",
       "2                 255                    1.00                    0.00   \n",
       "3                 255                    1.00                    0.00   \n",
       "4                  19                    0.07                    0.07   \n",
       "\n",
       "   dst_host_same_src_port_rate  dst_host_srv_diff_host_rate  \\\n",
       "0                         0.88                         0.00   \n",
       "1                         0.00                         0.00   \n",
       "2                         0.03                         0.04   \n",
       "3                         0.00                         0.00   \n",
       "4                         0.00                         0.00   \n",
       "\n",
       "   dst_host_serror_rate  dst_host_srv_serror_rate  dst_host_rerror_rate  \\\n",
       "0                  0.00                      0.00                   0.0   \n",
       "1                  1.00                      1.00                   0.0   \n",
       "2                  0.03                      0.01                   0.0   \n",
       "3                  0.00                      0.00                   0.0   \n",
       "4                  0.00                      0.00                   1.0   \n",
       "\n",
       "   dst_host_srv_rerror_rate  outcome  level  \n",
       "0                      0.00   normal     15  \n",
       "1                      0.00  neptune     19  \n",
       "2                      0.01   normal     21  \n",
       "3                      0.00   normal     21  \n",
       "4                      1.00  neptune     21  "
      ]
     },
     "execution_count": 6,
     "metadata": {},
     "output_type": "execute_result"
    }
   ],
   "source": [
    "data_train.head()"
   ]
  },
  {
   "cell_type": "code",
   "execution_count": 7,
   "id": "fe900180",
   "metadata": {
    "execution": {
     "iopub.execute_input": "2022-09-16T14:45:39.456506Z",
     "iopub.status.busy": "2022-09-16T14:45:39.455666Z",
     "iopub.status.idle": "2022-09-16T14:45:39.522400Z",
     "shell.execute_reply": "2022-09-16T14:45:39.520869Z"
    },
    "papermill": {
     "duration": 0.084152,
     "end_time": "2022-09-16T14:45:39.525864",
     "exception": false,
     "start_time": "2022-09-16T14:45:39.441712",
     "status": "completed"
    },
    "tags": []
   },
   "outputs": [
    {
     "name": "stdout",
     "output_type": "stream",
     "text": [
      "<class 'pandas.core.frame.DataFrame'>\n",
      "RangeIndex: 125972 entries, 0 to 125971\n",
      "Data columns (total 43 columns):\n",
      " #   Column                       Non-Null Count   Dtype  \n",
      "---  ------                       --------------   -----  \n",
      " 0   duration                     125972 non-null  int64  \n",
      " 1   protocol_type                125972 non-null  object \n",
      " 2   service                      125972 non-null  object \n",
      " 3   flag                         125972 non-null  object \n",
      " 4   src_bytes                    125972 non-null  int64  \n",
      " 5   dst_bytes                    125972 non-null  int64  \n",
      " 6   land                         125972 non-null  int64  \n",
      " 7   wrong_fragment               125972 non-null  int64  \n",
      " 8   urgent                       125972 non-null  int64  \n",
      " 9   hot                          125972 non-null  int64  \n",
      " 10  num_failed_logins            125972 non-null  int64  \n",
      " 11  logged_in                    125972 non-null  int64  \n",
      " 12  num_compromised              125972 non-null  int64  \n",
      " 13  root_shell                   125972 non-null  int64  \n",
      " 14  su_attempted                 125972 non-null  int64  \n",
      " 15  num_root                     125972 non-null  int64  \n",
      " 16  num_file_creations           125972 non-null  int64  \n",
      " 17  num_shells                   125972 non-null  int64  \n",
      " 18  num_access_files             125972 non-null  int64  \n",
      " 19  num_outbound_cmds            125972 non-null  int64  \n",
      " 20  is_host_login                125972 non-null  int64  \n",
      " 21  is_guest_login               125972 non-null  int64  \n",
      " 22  count                        125972 non-null  int64  \n",
      " 23  srv_count                    125972 non-null  int64  \n",
      " 24  serror_rate                  125972 non-null  float64\n",
      " 25  srv_serror_rate              125972 non-null  float64\n",
      " 26  rerror_rate                  125972 non-null  float64\n",
      " 27  srv_rerror_rate              125972 non-null  float64\n",
      " 28  same_srv_rate                125972 non-null  float64\n",
      " 29  diff_srv_rate                125972 non-null  float64\n",
      " 30  srv_diff_host_rate           125972 non-null  float64\n",
      " 31  dst_host_count               125972 non-null  int64  \n",
      " 32  dst_host_srv_count           125972 non-null  int64  \n",
      " 33  dst_host_same_srv_rate       125972 non-null  float64\n",
      " 34  dst_host_diff_srv_rate       125972 non-null  float64\n",
      " 35  dst_host_same_src_port_rate  125972 non-null  float64\n",
      " 36  dst_host_srv_diff_host_rate  125972 non-null  float64\n",
      " 37  dst_host_serror_rate         125972 non-null  float64\n",
      " 38  dst_host_srv_serror_rate     125972 non-null  float64\n",
      " 39  dst_host_rerror_rate         125972 non-null  float64\n",
      " 40  dst_host_srv_rerror_rate     125972 non-null  float64\n",
      " 41  outcome                      125972 non-null  object \n",
      " 42  level                        125972 non-null  int64  \n",
      "dtypes: float64(15), int64(24), object(4)\n",
      "memory usage: 41.3+ MB\n"
     ]
    }
   ],
   "source": [
    "data_train.info()"
   ]
  },
  {
   "cell_type": "code",
   "execution_count": 8,
   "id": "608b6776",
   "metadata": {
    "execution": {
     "iopub.execute_input": "2022-09-16T14:45:39.554448Z",
     "iopub.status.busy": "2022-09-16T14:45:39.553682Z",
     "iopub.status.idle": "2022-09-16T14:45:39.973124Z",
     "shell.execute_reply": "2022-09-16T14:45:39.971884Z"
    },
    "papermill": {
     "duration": 0.436803,
     "end_time": "2022-09-16T14:45:39.976036",
     "exception": false,
     "start_time": "2022-09-16T14:45:39.539233",
     "status": "completed"
    },
    "tags": []
   },
   "outputs": [
    {
     "data": {
      "text/html": [
       "<style type=\"text/css\">\n",
       "#T_c5049_row0_col0, #T_c5049_row0_col3, #T_c5049_row0_col4, #T_c5049_row0_col5, #T_c5049_row0_col6, #T_c5049_row0_col7, #T_c5049_row0_col8, #T_c5049_row0_col9, #T_c5049_row0_col10, #T_c5049_row0_col11, #T_c5049_row0_col12, #T_c5049_row0_col13, #T_c5049_row0_col14, #T_c5049_row0_col15, #T_c5049_row0_col16, #T_c5049_row0_col17, #T_c5049_row0_col18, #T_c5049_row0_col19, #T_c5049_row0_col20, #T_c5049_row0_col21, #T_c5049_row0_col22, #T_c5049_row0_col23, #T_c5049_row0_col24, #T_c5049_row0_col25, #T_c5049_row0_col26, #T_c5049_row0_col27, #T_c5049_row0_col28, #T_c5049_row0_col29, #T_c5049_row0_col30, #T_c5049_row0_col31, #T_c5049_row0_col32, #T_c5049_row0_col33, #T_c5049_row0_col34, #T_c5049_row0_col35, #T_c5049_row0_col36, #T_c5049_row0_col37, #T_c5049_row0_col38, #T_c5049_row7_col1, #T_c5049_row7_col2 {\n",
       "  background-color: #08306b;\n",
       "  color: #f1f1f1;\n",
       "  font-family: Segoe UI;\n",
       "}\n",
       "#T_c5049_row0_col1, #T_c5049_row0_col2, #T_c5049_row1_col0, #T_c5049_row1_col1, #T_c5049_row1_col2, #T_c5049_row1_col3, #T_c5049_row1_col4, #T_c5049_row1_col5, #T_c5049_row1_col6, #T_c5049_row1_col7, #T_c5049_row1_col8, #T_c5049_row1_col9, #T_c5049_row1_col10, #T_c5049_row1_col11, #T_c5049_row1_col12, #T_c5049_row1_col13, #T_c5049_row1_col14, #T_c5049_row1_col15, #T_c5049_row1_col16, #T_c5049_row1_col17, #T_c5049_row1_col18, #T_c5049_row1_col19, #T_c5049_row1_col20, #T_c5049_row1_col21, #T_c5049_row1_col22, #T_c5049_row1_col23, #T_c5049_row1_col24, #T_c5049_row1_col25, #T_c5049_row1_col26, #T_c5049_row1_col27, #T_c5049_row1_col28, #T_c5049_row1_col29, #T_c5049_row1_col30, #T_c5049_row1_col31, #T_c5049_row1_col32, #T_c5049_row1_col33, #T_c5049_row1_col34, #T_c5049_row1_col35, #T_c5049_row1_col36, #T_c5049_row1_col37, #T_c5049_row1_col38, #T_c5049_row2_col2, #T_c5049_row2_col3, #T_c5049_row2_col4, #T_c5049_row2_col5, #T_c5049_row2_col6, #T_c5049_row2_col7, #T_c5049_row2_col8, #T_c5049_row2_col9, #T_c5049_row2_col10, #T_c5049_row2_col11, #T_c5049_row2_col12, #T_c5049_row2_col13, #T_c5049_row2_col14, #T_c5049_row2_col15, #T_c5049_row2_col16, #T_c5049_row2_col17, #T_c5049_row2_col18, #T_c5049_row2_col19, #T_c5049_row2_col20, #T_c5049_row2_col21, #T_c5049_row2_col22, #T_c5049_row2_col23, #T_c5049_row2_col24, #T_c5049_row2_col25, #T_c5049_row2_col26, #T_c5049_row2_col27, #T_c5049_row2_col28, #T_c5049_row2_col29, #T_c5049_row2_col30, #T_c5049_row2_col31, #T_c5049_row2_col32, #T_c5049_row2_col33, #T_c5049_row2_col34, #T_c5049_row2_col35, #T_c5049_row2_col36, #T_c5049_row2_col37, #T_c5049_row2_col38, #T_c5049_row3_col0, #T_c5049_row3_col1, #T_c5049_row3_col2, #T_c5049_row3_col3, #T_c5049_row3_col4, #T_c5049_row3_col5, #T_c5049_row3_col6, #T_c5049_row3_col7, #T_c5049_row3_col8, #T_c5049_row3_col9, #T_c5049_row3_col10, #T_c5049_row3_col11, #T_c5049_row3_col12, #T_c5049_row3_col13, #T_c5049_row3_col14, #T_c5049_row3_col15, #T_c5049_row3_col16, #T_c5049_row3_col17, #T_c5049_row3_col18, #T_c5049_row3_col19, #T_c5049_row3_col20, #T_c5049_row3_col21, #T_c5049_row3_col22, #T_c5049_row3_col23, #T_c5049_row3_col24, #T_c5049_row3_col25, #T_c5049_row3_col26, #T_c5049_row3_col27, #T_c5049_row3_col28, #T_c5049_row3_col29, #T_c5049_row3_col30, #T_c5049_row3_col31, #T_c5049_row3_col32, #T_c5049_row3_col33, #T_c5049_row3_col34, #T_c5049_row3_col35, #T_c5049_row3_col36, #T_c5049_row3_col37, #T_c5049_row3_col38, #T_c5049_row4_col0, #T_c5049_row4_col1, #T_c5049_row4_col2, #T_c5049_row4_col3, #T_c5049_row4_col4, #T_c5049_row4_col5, #T_c5049_row4_col6, #T_c5049_row4_col7, #T_c5049_row4_col8, #T_c5049_row4_col9, #T_c5049_row4_col10, #T_c5049_row4_col11, #T_c5049_row4_col12, #T_c5049_row4_col13, #T_c5049_row4_col14, #T_c5049_row4_col15, #T_c5049_row4_col16, #T_c5049_row4_col17, #T_c5049_row4_col18, #T_c5049_row4_col19, #T_c5049_row4_col20, #T_c5049_row4_col21, #T_c5049_row4_col22, #T_c5049_row4_col23, #T_c5049_row4_col24, #T_c5049_row4_col25, #T_c5049_row4_col26, #T_c5049_row4_col27, #T_c5049_row4_col28, #T_c5049_row4_col29, #T_c5049_row4_col30, #T_c5049_row4_col31, #T_c5049_row4_col32, #T_c5049_row4_col33, #T_c5049_row4_col34, #T_c5049_row4_col35, #T_c5049_row4_col36, #T_c5049_row4_col37, #T_c5049_row4_col38, #T_c5049_row5_col0, #T_c5049_row5_col1, #T_c5049_row5_col2, #T_c5049_row5_col3, #T_c5049_row5_col4, #T_c5049_row5_col5, #T_c5049_row5_col6, #T_c5049_row5_col7, #T_c5049_row5_col8, #T_c5049_row5_col9, #T_c5049_row5_col10, #T_c5049_row5_col11, #T_c5049_row5_col12, #T_c5049_row5_col13, #T_c5049_row5_col14, #T_c5049_row5_col15, #T_c5049_row5_col16, #T_c5049_row5_col17, #T_c5049_row5_col18, #T_c5049_row5_col19, #T_c5049_row5_col20, #T_c5049_row5_col21, #T_c5049_row5_col22, #T_c5049_row5_col23, #T_c5049_row5_col24, #T_c5049_row5_col25, #T_c5049_row5_col26, #T_c5049_row5_col27, #T_c5049_row5_col28, #T_c5049_row5_col29, #T_c5049_row5_col30, #T_c5049_row5_col31, #T_c5049_row5_col32, #T_c5049_row5_col33, #T_c5049_row5_col34, #T_c5049_row5_col35, #T_c5049_row5_col36, #T_c5049_row5_col37, #T_c5049_row5_col38, #T_c5049_row6_col0, #T_c5049_row6_col1, #T_c5049_row6_col2, #T_c5049_row6_col3, #T_c5049_row6_col4, #T_c5049_row6_col5, #T_c5049_row6_col6, #T_c5049_row6_col7, #T_c5049_row6_col8, #T_c5049_row6_col9, #T_c5049_row6_col10, #T_c5049_row6_col11, #T_c5049_row6_col12, #T_c5049_row6_col13, #T_c5049_row6_col14, #T_c5049_row6_col15, #T_c5049_row6_col16, #T_c5049_row6_col17, #T_c5049_row6_col18, #T_c5049_row6_col19, #T_c5049_row6_col20, #T_c5049_row6_col21, #T_c5049_row6_col22, #T_c5049_row6_col23, #T_c5049_row6_col24, #T_c5049_row6_col25, #T_c5049_row6_col26, #T_c5049_row6_col27, #T_c5049_row6_col28, #T_c5049_row6_col29, #T_c5049_row6_col30, #T_c5049_row6_col31, #T_c5049_row6_col32, #T_c5049_row6_col33, #T_c5049_row6_col34, #T_c5049_row6_col35, #T_c5049_row6_col36, #T_c5049_row6_col37, #T_c5049_row6_col38, #T_c5049_row7_col3, #T_c5049_row7_col4, #T_c5049_row7_col5, #T_c5049_row7_col6, #T_c5049_row7_col7, #T_c5049_row7_col8, #T_c5049_row7_col10, #T_c5049_row7_col11, #T_c5049_row7_col13, #T_c5049_row7_col14, #T_c5049_row7_col15, #T_c5049_row7_col16, #T_c5049_row7_col17, #T_c5049_row7_col18, #T_c5049_row7_col21, #T_c5049_row7_col22, #T_c5049_row7_col23, #T_c5049_row7_col24, #T_c5049_row7_col25, #T_c5049_row7_col26, #T_c5049_row7_col27, #T_c5049_row7_col28, #T_c5049_row7_col29, #T_c5049_row7_col30, #T_c5049_row7_col31, #T_c5049_row7_col32, #T_c5049_row7_col33, #T_c5049_row7_col34, #T_c5049_row7_col35, #T_c5049_row7_col36, #T_c5049_row7_col37, #T_c5049_row7_col38 {\n",
       "  background-color: #f7fbff;\n",
       "  color: #000000;\n",
       "  font-family: Segoe UI;\n",
       "}\n",
       "#T_c5049_row2_col0 {\n",
       "  background-color: #f3f8fe;\n",
       "  color: #000000;\n",
       "  font-family: Segoe UI;\n",
       "}\n",
       "#T_c5049_row2_col1, #T_c5049_row7_col19, #T_c5049_row7_col20 {\n",
       "  background-color: #f6faff;\n",
       "  color: #000000;\n",
       "  font-family: Segoe UI;\n",
       "}\n",
       "#T_c5049_row7_col0 {\n",
       "  background-color: #a9cfe5;\n",
       "  color: #000000;\n",
       "  font-family: Segoe UI;\n",
       "}\n",
       "#T_c5049_row7_col9, #T_c5049_row7_col12 {\n",
       "  background-color: #ebf3fb;\n",
       "  color: #000000;\n",
       "  font-family: Segoe UI;\n",
       "}\n",
       "</style>\n",
       "<table id=\"T_c5049_\">\n",
       "  <thead>\n",
       "    <tr>\n",
       "      <th class=\"blank level0\" >&nbsp;</th>\n",
       "      <th class=\"col_heading level0 col0\" >duration</th>\n",
       "      <th class=\"col_heading level0 col1\" >src_bytes</th>\n",
       "      <th class=\"col_heading level0 col2\" >dst_bytes</th>\n",
       "      <th class=\"col_heading level0 col3\" >land</th>\n",
       "      <th class=\"col_heading level0 col4\" >wrong_fragment</th>\n",
       "      <th class=\"col_heading level0 col5\" >urgent</th>\n",
       "      <th class=\"col_heading level0 col6\" >hot</th>\n",
       "      <th class=\"col_heading level0 col7\" >num_failed_logins</th>\n",
       "      <th class=\"col_heading level0 col8\" >logged_in</th>\n",
       "      <th class=\"col_heading level0 col9\" >num_compromised</th>\n",
       "      <th class=\"col_heading level0 col10\" >root_shell</th>\n",
       "      <th class=\"col_heading level0 col11\" >su_attempted</th>\n",
       "      <th class=\"col_heading level0 col12\" >num_root</th>\n",
       "      <th class=\"col_heading level0 col13\" >num_file_creations</th>\n",
       "      <th class=\"col_heading level0 col14\" >num_shells</th>\n",
       "      <th class=\"col_heading level0 col15\" >num_access_files</th>\n",
       "      <th class=\"col_heading level0 col16\" >num_outbound_cmds</th>\n",
       "      <th class=\"col_heading level0 col17\" >is_host_login</th>\n",
       "      <th class=\"col_heading level0 col18\" >is_guest_login</th>\n",
       "      <th class=\"col_heading level0 col19\" >count</th>\n",
       "      <th class=\"col_heading level0 col20\" >srv_count</th>\n",
       "      <th class=\"col_heading level0 col21\" >serror_rate</th>\n",
       "      <th class=\"col_heading level0 col22\" >srv_serror_rate</th>\n",
       "      <th class=\"col_heading level0 col23\" >rerror_rate</th>\n",
       "      <th class=\"col_heading level0 col24\" >srv_rerror_rate</th>\n",
       "      <th class=\"col_heading level0 col25\" >same_srv_rate</th>\n",
       "      <th class=\"col_heading level0 col26\" >diff_srv_rate</th>\n",
       "      <th class=\"col_heading level0 col27\" >srv_diff_host_rate</th>\n",
       "      <th class=\"col_heading level0 col28\" >dst_host_count</th>\n",
       "      <th class=\"col_heading level0 col29\" >dst_host_srv_count</th>\n",
       "      <th class=\"col_heading level0 col30\" >dst_host_same_srv_rate</th>\n",
       "      <th class=\"col_heading level0 col31\" >dst_host_diff_srv_rate</th>\n",
       "      <th class=\"col_heading level0 col32\" >dst_host_same_src_port_rate</th>\n",
       "      <th class=\"col_heading level0 col33\" >dst_host_srv_diff_host_rate</th>\n",
       "      <th class=\"col_heading level0 col34\" >dst_host_serror_rate</th>\n",
       "      <th class=\"col_heading level0 col35\" >dst_host_srv_serror_rate</th>\n",
       "      <th class=\"col_heading level0 col36\" >dst_host_rerror_rate</th>\n",
       "      <th class=\"col_heading level0 col37\" >dst_host_srv_rerror_rate</th>\n",
       "      <th class=\"col_heading level0 col38\" >level</th>\n",
       "    </tr>\n",
       "  </thead>\n",
       "  <tbody>\n",
       "    <tr>\n",
       "      <th id=\"T_c5049_level0_row0\" class=\"row_heading level0 row0\" >count</th>\n",
       "      <td id=\"T_c5049_row0_col0\" class=\"data row0 col0\" >125972.000000</td>\n",
       "      <td id=\"T_c5049_row0_col1\" class=\"data row0 col1\" >125972.000000</td>\n",
       "      <td id=\"T_c5049_row0_col2\" class=\"data row0 col2\" >125972.000000</td>\n",
       "      <td id=\"T_c5049_row0_col3\" class=\"data row0 col3\" >125972.000000</td>\n",
       "      <td id=\"T_c5049_row0_col4\" class=\"data row0 col4\" >125972.000000</td>\n",
       "      <td id=\"T_c5049_row0_col5\" class=\"data row0 col5\" >125972.000000</td>\n",
       "      <td id=\"T_c5049_row0_col6\" class=\"data row0 col6\" >125972.000000</td>\n",
       "      <td id=\"T_c5049_row0_col7\" class=\"data row0 col7\" >125972.000000</td>\n",
       "      <td id=\"T_c5049_row0_col8\" class=\"data row0 col8\" >125972.000000</td>\n",
       "      <td id=\"T_c5049_row0_col9\" class=\"data row0 col9\" >125972.000000</td>\n",
       "      <td id=\"T_c5049_row0_col10\" class=\"data row0 col10\" >125972.000000</td>\n",
       "      <td id=\"T_c5049_row0_col11\" class=\"data row0 col11\" >125972.000000</td>\n",
       "      <td id=\"T_c5049_row0_col12\" class=\"data row0 col12\" >125972.000000</td>\n",
       "      <td id=\"T_c5049_row0_col13\" class=\"data row0 col13\" >125972.000000</td>\n",
       "      <td id=\"T_c5049_row0_col14\" class=\"data row0 col14\" >125972.000000</td>\n",
       "      <td id=\"T_c5049_row0_col15\" class=\"data row0 col15\" >125972.000000</td>\n",
       "      <td id=\"T_c5049_row0_col16\" class=\"data row0 col16\" >125972.000000</td>\n",
       "      <td id=\"T_c5049_row0_col17\" class=\"data row0 col17\" >125972.000000</td>\n",
       "      <td id=\"T_c5049_row0_col18\" class=\"data row0 col18\" >125972.000000</td>\n",
       "      <td id=\"T_c5049_row0_col19\" class=\"data row0 col19\" >125972.000000</td>\n",
       "      <td id=\"T_c5049_row0_col20\" class=\"data row0 col20\" >125972.000000</td>\n",
       "      <td id=\"T_c5049_row0_col21\" class=\"data row0 col21\" >125972.000000</td>\n",
       "      <td id=\"T_c5049_row0_col22\" class=\"data row0 col22\" >125972.000000</td>\n",
       "      <td id=\"T_c5049_row0_col23\" class=\"data row0 col23\" >125972.000000</td>\n",
       "      <td id=\"T_c5049_row0_col24\" class=\"data row0 col24\" >125972.000000</td>\n",
       "      <td id=\"T_c5049_row0_col25\" class=\"data row0 col25\" >125972.000000</td>\n",
       "      <td id=\"T_c5049_row0_col26\" class=\"data row0 col26\" >125972.000000</td>\n",
       "      <td id=\"T_c5049_row0_col27\" class=\"data row0 col27\" >125972.000000</td>\n",
       "      <td id=\"T_c5049_row0_col28\" class=\"data row0 col28\" >125972.000000</td>\n",
       "      <td id=\"T_c5049_row0_col29\" class=\"data row0 col29\" >125972.000000</td>\n",
       "      <td id=\"T_c5049_row0_col30\" class=\"data row0 col30\" >125972.000000</td>\n",
       "      <td id=\"T_c5049_row0_col31\" class=\"data row0 col31\" >125972.000000</td>\n",
       "      <td id=\"T_c5049_row0_col32\" class=\"data row0 col32\" >125972.000000</td>\n",
       "      <td id=\"T_c5049_row0_col33\" class=\"data row0 col33\" >125972.000000</td>\n",
       "      <td id=\"T_c5049_row0_col34\" class=\"data row0 col34\" >125972.000000</td>\n",
       "      <td id=\"T_c5049_row0_col35\" class=\"data row0 col35\" >125972.000000</td>\n",
       "      <td id=\"T_c5049_row0_col36\" class=\"data row0 col36\" >125972.000000</td>\n",
       "      <td id=\"T_c5049_row0_col37\" class=\"data row0 col37\" >125972.000000</td>\n",
       "      <td id=\"T_c5049_row0_col38\" class=\"data row0 col38\" >125972.000000</td>\n",
       "    </tr>\n",
       "    <tr>\n",
       "      <th id=\"T_c5049_level0_row1\" class=\"row_heading level0 row1\" >mean</th>\n",
       "      <td id=\"T_c5049_row1_col0\" class=\"data row1 col0\" >287.146929</td>\n",
       "      <td id=\"T_c5049_row1_col1\" class=\"data row1 col1\" >45567.100824</td>\n",
       "      <td id=\"T_c5049_row1_col2\" class=\"data row1 col2\" >19779.271433</td>\n",
       "      <td id=\"T_c5049_row1_col3\" class=\"data row1 col3\" >0.000198</td>\n",
       "      <td id=\"T_c5049_row1_col4\" class=\"data row1 col4\" >0.022688</td>\n",
       "      <td id=\"T_c5049_row1_col5\" class=\"data row1 col5\" >0.000111</td>\n",
       "      <td id=\"T_c5049_row1_col6\" class=\"data row1 col6\" >0.204411</td>\n",
       "      <td id=\"T_c5049_row1_col7\" class=\"data row1 col7\" >0.001222</td>\n",
       "      <td id=\"T_c5049_row1_col8\" class=\"data row1 col8\" >0.395739</td>\n",
       "      <td id=\"T_c5049_row1_col9\" class=\"data row1 col9\" >0.279253</td>\n",
       "      <td id=\"T_c5049_row1_col10\" class=\"data row1 col10\" >0.001342</td>\n",
       "      <td id=\"T_c5049_row1_col11\" class=\"data row1 col11\" >0.001103</td>\n",
       "      <td id=\"T_c5049_row1_col12\" class=\"data row1 col12\" >0.302194</td>\n",
       "      <td id=\"T_c5049_row1_col13\" class=\"data row1 col13\" >0.012669</td>\n",
       "      <td id=\"T_c5049_row1_col14\" class=\"data row1 col14\" >0.000413</td>\n",
       "      <td id=\"T_c5049_row1_col15\" class=\"data row1 col15\" >0.004096</td>\n",
       "      <td id=\"T_c5049_row1_col16\" class=\"data row1 col16\" >0.000000</td>\n",
       "      <td id=\"T_c5049_row1_col17\" class=\"data row1 col17\" >0.000008</td>\n",
       "      <td id=\"T_c5049_row1_col18\" class=\"data row1 col18\" >0.009423</td>\n",
       "      <td id=\"T_c5049_row1_col19\" class=\"data row1 col19\" >84.108207</td>\n",
       "      <td id=\"T_c5049_row1_col20\" class=\"data row1 col20\" >27.738093</td>\n",
       "      <td id=\"T_c5049_row1_col21\" class=\"data row1 col21\" >0.284487</td>\n",
       "      <td id=\"T_c5049_row1_col22\" class=\"data row1 col22\" >0.282488</td>\n",
       "      <td id=\"T_c5049_row1_col23\" class=\"data row1 col23\" >0.119959</td>\n",
       "      <td id=\"T_c5049_row1_col24\" class=\"data row1 col24\" >0.121184</td>\n",
       "      <td id=\"T_c5049_row1_col25\" class=\"data row1 col25\" >0.660925</td>\n",
       "      <td id=\"T_c5049_row1_col26\" class=\"data row1 col26\" >0.063053</td>\n",
       "      <td id=\"T_c5049_row1_col27\" class=\"data row1 col27\" >0.097322</td>\n",
       "      <td id=\"T_c5049_row1_col28\" class=\"data row1 col28\" >182.149200</td>\n",
       "      <td id=\"T_c5049_row1_col29\" class=\"data row1 col29\" >115.653725</td>\n",
       "      <td id=\"T_c5049_row1_col30\" class=\"data row1 col30\" >0.521244</td>\n",
       "      <td id=\"T_c5049_row1_col31\" class=\"data row1 col31\" >0.082952</td>\n",
       "      <td id=\"T_c5049_row1_col32\" class=\"data row1 col32\" >0.148379</td>\n",
       "      <td id=\"T_c5049_row1_col33\" class=\"data row1 col33\" >0.032543</td>\n",
       "      <td id=\"T_c5049_row1_col34\" class=\"data row1 col34\" >0.284455</td>\n",
       "      <td id=\"T_c5049_row1_col35\" class=\"data row1 col35\" >0.278487</td>\n",
       "      <td id=\"T_c5049_row1_col36\" class=\"data row1 col36\" >0.118832</td>\n",
       "      <td id=\"T_c5049_row1_col37\" class=\"data row1 col37\" >0.120241</td>\n",
       "      <td id=\"T_c5049_row1_col38\" class=\"data row1 col38\" >19.504056</td>\n",
       "    </tr>\n",
       "    <tr>\n",
       "      <th id=\"T_c5049_level0_row2\" class=\"row_heading level0 row2\" >std</th>\n",
       "      <td id=\"T_c5049_row2_col0\" class=\"data row2 col0\" >2604.525522</td>\n",
       "      <td id=\"T_c5049_row2_col1\" class=\"data row2 col1\" >5870354.480801</td>\n",
       "      <td id=\"T_c5049_row2_col2\" class=\"data row2 col2\" >4021285.112114</td>\n",
       "      <td id=\"T_c5049_row2_col3\" class=\"data row2 col3\" >0.014086</td>\n",
       "      <td id=\"T_c5049_row2_col4\" class=\"data row2 col4\" >0.253531</td>\n",
       "      <td id=\"T_c5049_row2_col5\" class=\"data row2 col5\" >0.014366</td>\n",
       "      <td id=\"T_c5049_row2_col6\" class=\"data row2 col6\" >2.149977</td>\n",
       "      <td id=\"T_c5049_row2_col7\" class=\"data row2 col7\" >0.045239</td>\n",
       "      <td id=\"T_c5049_row2_col8\" class=\"data row2 col8\" >0.489011</td>\n",
       "      <td id=\"T_c5049_row2_col9\" class=\"data row2 col9\" >23.942137</td>\n",
       "      <td id=\"T_c5049_row2_col10\" class=\"data row2 col10\" >0.036603</td>\n",
       "      <td id=\"T_c5049_row2_col11\" class=\"data row2 col11\" >0.045155</td>\n",
       "      <td id=\"T_c5049_row2_col12\" class=\"data row2 col12\" >24.399715</td>\n",
       "      <td id=\"T_c5049_row2_col13\" class=\"data row2 col13\" >0.483937</td>\n",
       "      <td id=\"T_c5049_row2_col14\" class=\"data row2 col14\" >0.022181</td>\n",
       "      <td id=\"T_c5049_row2_col15\" class=\"data row2 col15\" >0.099370</td>\n",
       "      <td id=\"T_c5049_row2_col16\" class=\"data row2 col16\" >0.000000</td>\n",
       "      <td id=\"T_c5049_row2_col17\" class=\"data row2 col17\" >0.002817</td>\n",
       "      <td id=\"T_c5049_row2_col18\" class=\"data row2 col18\" >0.096613</td>\n",
       "      <td id=\"T_c5049_row2_col19\" class=\"data row2 col19\" >114.508828</td>\n",
       "      <td id=\"T_c5049_row2_col20\" class=\"data row2 col20\" >72.636092</td>\n",
       "      <td id=\"T_c5049_row2_col21\" class=\"data row2 col21\" >0.446457</td>\n",
       "      <td id=\"T_c5049_row2_col22\" class=\"data row2 col22\" >0.447024</td>\n",
       "      <td id=\"T_c5049_row2_col23\" class=\"data row2 col23\" >0.320437</td>\n",
       "      <td id=\"T_c5049_row2_col24\" class=\"data row2 col24\" >0.323648</td>\n",
       "      <td id=\"T_c5049_row2_col25\" class=\"data row2 col25\" >0.439624</td>\n",
       "      <td id=\"T_c5049_row2_col26\" class=\"data row2 col26\" >0.180315</td>\n",
       "      <td id=\"T_c5049_row2_col27\" class=\"data row2 col27\" >0.259831</td>\n",
       "      <td id=\"T_c5049_row2_col28\" class=\"data row2 col28\" >99.206565</td>\n",
       "      <td id=\"T_c5049_row2_col29\" class=\"data row2 col29\" >110.702886</td>\n",
       "      <td id=\"T_c5049_row2_col30\" class=\"data row2 col30\" >0.448950</td>\n",
       "      <td id=\"T_c5049_row2_col31\" class=\"data row2 col31\" >0.188922</td>\n",
       "      <td id=\"T_c5049_row2_col32\" class=\"data row2 col32\" >0.308998</td>\n",
       "      <td id=\"T_c5049_row2_col33\" class=\"data row2 col33\" >0.112564</td>\n",
       "      <td id=\"T_c5049_row2_col34\" class=\"data row2 col34\" >0.444785</td>\n",
       "      <td id=\"T_c5049_row2_col35\" class=\"data row2 col35\" >0.445670</td>\n",
       "      <td id=\"T_c5049_row2_col36\" class=\"data row2 col36\" >0.306559</td>\n",
       "      <td id=\"T_c5049_row2_col37\" class=\"data row2 col37\" >0.319460</td>\n",
       "      <td id=\"T_c5049_row2_col38\" class=\"data row2 col38\" >2.291512</td>\n",
       "    </tr>\n",
       "    <tr>\n",
       "      <th id=\"T_c5049_level0_row3\" class=\"row_heading level0 row3\" >min</th>\n",
       "      <td id=\"T_c5049_row3_col0\" class=\"data row3 col0\" >0.000000</td>\n",
       "      <td id=\"T_c5049_row3_col1\" class=\"data row3 col1\" >0.000000</td>\n",
       "      <td id=\"T_c5049_row3_col2\" class=\"data row3 col2\" >0.000000</td>\n",
       "      <td id=\"T_c5049_row3_col3\" class=\"data row3 col3\" >0.000000</td>\n",
       "      <td id=\"T_c5049_row3_col4\" class=\"data row3 col4\" >0.000000</td>\n",
       "      <td id=\"T_c5049_row3_col5\" class=\"data row3 col5\" >0.000000</td>\n",
       "      <td id=\"T_c5049_row3_col6\" class=\"data row3 col6\" >0.000000</td>\n",
       "      <td id=\"T_c5049_row3_col7\" class=\"data row3 col7\" >0.000000</td>\n",
       "      <td id=\"T_c5049_row3_col8\" class=\"data row3 col8\" >0.000000</td>\n",
       "      <td id=\"T_c5049_row3_col9\" class=\"data row3 col9\" >0.000000</td>\n",
       "      <td id=\"T_c5049_row3_col10\" class=\"data row3 col10\" >0.000000</td>\n",
       "      <td id=\"T_c5049_row3_col11\" class=\"data row3 col11\" >0.000000</td>\n",
       "      <td id=\"T_c5049_row3_col12\" class=\"data row3 col12\" >0.000000</td>\n",
       "      <td id=\"T_c5049_row3_col13\" class=\"data row3 col13\" >0.000000</td>\n",
       "      <td id=\"T_c5049_row3_col14\" class=\"data row3 col14\" >0.000000</td>\n",
       "      <td id=\"T_c5049_row3_col15\" class=\"data row3 col15\" >0.000000</td>\n",
       "      <td id=\"T_c5049_row3_col16\" class=\"data row3 col16\" >0.000000</td>\n",
       "      <td id=\"T_c5049_row3_col17\" class=\"data row3 col17\" >0.000000</td>\n",
       "      <td id=\"T_c5049_row3_col18\" class=\"data row3 col18\" >0.000000</td>\n",
       "      <td id=\"T_c5049_row3_col19\" class=\"data row3 col19\" >0.000000</td>\n",
       "      <td id=\"T_c5049_row3_col20\" class=\"data row3 col20\" >0.000000</td>\n",
       "      <td id=\"T_c5049_row3_col21\" class=\"data row3 col21\" >0.000000</td>\n",
       "      <td id=\"T_c5049_row3_col22\" class=\"data row3 col22\" >0.000000</td>\n",
       "      <td id=\"T_c5049_row3_col23\" class=\"data row3 col23\" >0.000000</td>\n",
       "      <td id=\"T_c5049_row3_col24\" class=\"data row3 col24\" >0.000000</td>\n",
       "      <td id=\"T_c5049_row3_col25\" class=\"data row3 col25\" >0.000000</td>\n",
       "      <td id=\"T_c5049_row3_col26\" class=\"data row3 col26\" >0.000000</td>\n",
       "      <td id=\"T_c5049_row3_col27\" class=\"data row3 col27\" >0.000000</td>\n",
       "      <td id=\"T_c5049_row3_col28\" class=\"data row3 col28\" >0.000000</td>\n",
       "      <td id=\"T_c5049_row3_col29\" class=\"data row3 col29\" >0.000000</td>\n",
       "      <td id=\"T_c5049_row3_col30\" class=\"data row3 col30\" >0.000000</td>\n",
       "      <td id=\"T_c5049_row3_col31\" class=\"data row3 col31\" >0.000000</td>\n",
       "      <td id=\"T_c5049_row3_col32\" class=\"data row3 col32\" >0.000000</td>\n",
       "      <td id=\"T_c5049_row3_col33\" class=\"data row3 col33\" >0.000000</td>\n",
       "      <td id=\"T_c5049_row3_col34\" class=\"data row3 col34\" >0.000000</td>\n",
       "      <td id=\"T_c5049_row3_col35\" class=\"data row3 col35\" >0.000000</td>\n",
       "      <td id=\"T_c5049_row3_col36\" class=\"data row3 col36\" >0.000000</td>\n",
       "      <td id=\"T_c5049_row3_col37\" class=\"data row3 col37\" >0.000000</td>\n",
       "      <td id=\"T_c5049_row3_col38\" class=\"data row3 col38\" >0.000000</td>\n",
       "    </tr>\n",
       "    <tr>\n",
       "      <th id=\"T_c5049_level0_row4\" class=\"row_heading level0 row4\" >25%</th>\n",
       "      <td id=\"T_c5049_row4_col0\" class=\"data row4 col0\" >0.000000</td>\n",
       "      <td id=\"T_c5049_row4_col1\" class=\"data row4 col1\" >0.000000</td>\n",
       "      <td id=\"T_c5049_row4_col2\" class=\"data row4 col2\" >0.000000</td>\n",
       "      <td id=\"T_c5049_row4_col3\" class=\"data row4 col3\" >0.000000</td>\n",
       "      <td id=\"T_c5049_row4_col4\" class=\"data row4 col4\" >0.000000</td>\n",
       "      <td id=\"T_c5049_row4_col5\" class=\"data row4 col5\" >0.000000</td>\n",
       "      <td id=\"T_c5049_row4_col6\" class=\"data row4 col6\" >0.000000</td>\n",
       "      <td id=\"T_c5049_row4_col7\" class=\"data row4 col7\" >0.000000</td>\n",
       "      <td id=\"T_c5049_row4_col8\" class=\"data row4 col8\" >0.000000</td>\n",
       "      <td id=\"T_c5049_row4_col9\" class=\"data row4 col9\" >0.000000</td>\n",
       "      <td id=\"T_c5049_row4_col10\" class=\"data row4 col10\" >0.000000</td>\n",
       "      <td id=\"T_c5049_row4_col11\" class=\"data row4 col11\" >0.000000</td>\n",
       "      <td id=\"T_c5049_row4_col12\" class=\"data row4 col12\" >0.000000</td>\n",
       "      <td id=\"T_c5049_row4_col13\" class=\"data row4 col13\" >0.000000</td>\n",
       "      <td id=\"T_c5049_row4_col14\" class=\"data row4 col14\" >0.000000</td>\n",
       "      <td id=\"T_c5049_row4_col15\" class=\"data row4 col15\" >0.000000</td>\n",
       "      <td id=\"T_c5049_row4_col16\" class=\"data row4 col16\" >0.000000</td>\n",
       "      <td id=\"T_c5049_row4_col17\" class=\"data row4 col17\" >0.000000</td>\n",
       "      <td id=\"T_c5049_row4_col18\" class=\"data row4 col18\" >0.000000</td>\n",
       "      <td id=\"T_c5049_row4_col19\" class=\"data row4 col19\" >2.000000</td>\n",
       "      <td id=\"T_c5049_row4_col20\" class=\"data row4 col20\" >2.000000</td>\n",
       "      <td id=\"T_c5049_row4_col21\" class=\"data row4 col21\" >0.000000</td>\n",
       "      <td id=\"T_c5049_row4_col22\" class=\"data row4 col22\" >0.000000</td>\n",
       "      <td id=\"T_c5049_row4_col23\" class=\"data row4 col23\" >0.000000</td>\n",
       "      <td id=\"T_c5049_row4_col24\" class=\"data row4 col24\" >0.000000</td>\n",
       "      <td id=\"T_c5049_row4_col25\" class=\"data row4 col25\" >0.090000</td>\n",
       "      <td id=\"T_c5049_row4_col26\" class=\"data row4 col26\" >0.000000</td>\n",
       "      <td id=\"T_c5049_row4_col27\" class=\"data row4 col27\" >0.000000</td>\n",
       "      <td id=\"T_c5049_row4_col28\" class=\"data row4 col28\" >82.000000</td>\n",
       "      <td id=\"T_c5049_row4_col29\" class=\"data row4 col29\" >10.000000</td>\n",
       "      <td id=\"T_c5049_row4_col30\" class=\"data row4 col30\" >0.050000</td>\n",
       "      <td id=\"T_c5049_row4_col31\" class=\"data row4 col31\" >0.000000</td>\n",
       "      <td id=\"T_c5049_row4_col32\" class=\"data row4 col32\" >0.000000</td>\n",
       "      <td id=\"T_c5049_row4_col33\" class=\"data row4 col33\" >0.000000</td>\n",
       "      <td id=\"T_c5049_row4_col34\" class=\"data row4 col34\" >0.000000</td>\n",
       "      <td id=\"T_c5049_row4_col35\" class=\"data row4 col35\" >0.000000</td>\n",
       "      <td id=\"T_c5049_row4_col36\" class=\"data row4 col36\" >0.000000</td>\n",
       "      <td id=\"T_c5049_row4_col37\" class=\"data row4 col37\" >0.000000</td>\n",
       "      <td id=\"T_c5049_row4_col38\" class=\"data row4 col38\" >18.000000</td>\n",
       "    </tr>\n",
       "    <tr>\n",
       "      <th id=\"T_c5049_level0_row5\" class=\"row_heading level0 row5\" >50%</th>\n",
       "      <td id=\"T_c5049_row5_col0\" class=\"data row5 col0\" >0.000000</td>\n",
       "      <td id=\"T_c5049_row5_col1\" class=\"data row5 col1\" >44.000000</td>\n",
       "      <td id=\"T_c5049_row5_col2\" class=\"data row5 col2\" >0.000000</td>\n",
       "      <td id=\"T_c5049_row5_col3\" class=\"data row5 col3\" >0.000000</td>\n",
       "      <td id=\"T_c5049_row5_col4\" class=\"data row5 col4\" >0.000000</td>\n",
       "      <td id=\"T_c5049_row5_col5\" class=\"data row5 col5\" >0.000000</td>\n",
       "      <td id=\"T_c5049_row5_col6\" class=\"data row5 col6\" >0.000000</td>\n",
       "      <td id=\"T_c5049_row5_col7\" class=\"data row5 col7\" >0.000000</td>\n",
       "      <td id=\"T_c5049_row5_col8\" class=\"data row5 col8\" >0.000000</td>\n",
       "      <td id=\"T_c5049_row5_col9\" class=\"data row5 col9\" >0.000000</td>\n",
       "      <td id=\"T_c5049_row5_col10\" class=\"data row5 col10\" >0.000000</td>\n",
       "      <td id=\"T_c5049_row5_col11\" class=\"data row5 col11\" >0.000000</td>\n",
       "      <td id=\"T_c5049_row5_col12\" class=\"data row5 col12\" >0.000000</td>\n",
       "      <td id=\"T_c5049_row5_col13\" class=\"data row5 col13\" >0.000000</td>\n",
       "      <td id=\"T_c5049_row5_col14\" class=\"data row5 col14\" >0.000000</td>\n",
       "      <td id=\"T_c5049_row5_col15\" class=\"data row5 col15\" >0.000000</td>\n",
       "      <td id=\"T_c5049_row5_col16\" class=\"data row5 col16\" >0.000000</td>\n",
       "      <td id=\"T_c5049_row5_col17\" class=\"data row5 col17\" >0.000000</td>\n",
       "      <td id=\"T_c5049_row5_col18\" class=\"data row5 col18\" >0.000000</td>\n",
       "      <td id=\"T_c5049_row5_col19\" class=\"data row5 col19\" >14.000000</td>\n",
       "      <td id=\"T_c5049_row5_col20\" class=\"data row5 col20\" >8.000000</td>\n",
       "      <td id=\"T_c5049_row5_col21\" class=\"data row5 col21\" >0.000000</td>\n",
       "      <td id=\"T_c5049_row5_col22\" class=\"data row5 col22\" >0.000000</td>\n",
       "      <td id=\"T_c5049_row5_col23\" class=\"data row5 col23\" >0.000000</td>\n",
       "      <td id=\"T_c5049_row5_col24\" class=\"data row5 col24\" >0.000000</td>\n",
       "      <td id=\"T_c5049_row5_col25\" class=\"data row5 col25\" >1.000000</td>\n",
       "      <td id=\"T_c5049_row5_col26\" class=\"data row5 col26\" >0.000000</td>\n",
       "      <td id=\"T_c5049_row5_col27\" class=\"data row5 col27\" >0.000000</td>\n",
       "      <td id=\"T_c5049_row5_col28\" class=\"data row5 col28\" >255.000000</td>\n",
       "      <td id=\"T_c5049_row5_col29\" class=\"data row5 col29\" >63.000000</td>\n",
       "      <td id=\"T_c5049_row5_col30\" class=\"data row5 col30\" >0.510000</td>\n",
       "      <td id=\"T_c5049_row5_col31\" class=\"data row5 col31\" >0.020000</td>\n",
       "      <td id=\"T_c5049_row5_col32\" class=\"data row5 col32\" >0.000000</td>\n",
       "      <td id=\"T_c5049_row5_col33\" class=\"data row5 col33\" >0.000000</td>\n",
       "      <td id=\"T_c5049_row5_col34\" class=\"data row5 col34\" >0.000000</td>\n",
       "      <td id=\"T_c5049_row5_col35\" class=\"data row5 col35\" >0.000000</td>\n",
       "      <td id=\"T_c5049_row5_col36\" class=\"data row5 col36\" >0.000000</td>\n",
       "      <td id=\"T_c5049_row5_col37\" class=\"data row5 col37\" >0.000000</td>\n",
       "      <td id=\"T_c5049_row5_col38\" class=\"data row5 col38\" >20.000000</td>\n",
       "    </tr>\n",
       "    <tr>\n",
       "      <th id=\"T_c5049_level0_row6\" class=\"row_heading level0 row6\" >75%</th>\n",
       "      <td id=\"T_c5049_row6_col0\" class=\"data row6 col0\" >0.000000</td>\n",
       "      <td id=\"T_c5049_row6_col1\" class=\"data row6 col1\" >276.000000</td>\n",
       "      <td id=\"T_c5049_row6_col2\" class=\"data row6 col2\" >516.000000</td>\n",
       "      <td id=\"T_c5049_row6_col3\" class=\"data row6 col3\" >0.000000</td>\n",
       "      <td id=\"T_c5049_row6_col4\" class=\"data row6 col4\" >0.000000</td>\n",
       "      <td id=\"T_c5049_row6_col5\" class=\"data row6 col5\" >0.000000</td>\n",
       "      <td id=\"T_c5049_row6_col6\" class=\"data row6 col6\" >0.000000</td>\n",
       "      <td id=\"T_c5049_row6_col7\" class=\"data row6 col7\" >0.000000</td>\n",
       "      <td id=\"T_c5049_row6_col8\" class=\"data row6 col8\" >1.000000</td>\n",
       "      <td id=\"T_c5049_row6_col9\" class=\"data row6 col9\" >0.000000</td>\n",
       "      <td id=\"T_c5049_row6_col10\" class=\"data row6 col10\" >0.000000</td>\n",
       "      <td id=\"T_c5049_row6_col11\" class=\"data row6 col11\" >0.000000</td>\n",
       "      <td id=\"T_c5049_row6_col12\" class=\"data row6 col12\" >0.000000</td>\n",
       "      <td id=\"T_c5049_row6_col13\" class=\"data row6 col13\" >0.000000</td>\n",
       "      <td id=\"T_c5049_row6_col14\" class=\"data row6 col14\" >0.000000</td>\n",
       "      <td id=\"T_c5049_row6_col15\" class=\"data row6 col15\" >0.000000</td>\n",
       "      <td id=\"T_c5049_row6_col16\" class=\"data row6 col16\" >0.000000</td>\n",
       "      <td id=\"T_c5049_row6_col17\" class=\"data row6 col17\" >0.000000</td>\n",
       "      <td id=\"T_c5049_row6_col18\" class=\"data row6 col18\" >0.000000</td>\n",
       "      <td id=\"T_c5049_row6_col19\" class=\"data row6 col19\" >143.000000</td>\n",
       "      <td id=\"T_c5049_row6_col20\" class=\"data row6 col20\" >18.000000</td>\n",
       "      <td id=\"T_c5049_row6_col21\" class=\"data row6 col21\" >1.000000</td>\n",
       "      <td id=\"T_c5049_row6_col22\" class=\"data row6 col22\" >1.000000</td>\n",
       "      <td id=\"T_c5049_row6_col23\" class=\"data row6 col23\" >0.000000</td>\n",
       "      <td id=\"T_c5049_row6_col24\" class=\"data row6 col24\" >0.000000</td>\n",
       "      <td id=\"T_c5049_row6_col25\" class=\"data row6 col25\" >1.000000</td>\n",
       "      <td id=\"T_c5049_row6_col26\" class=\"data row6 col26\" >0.060000</td>\n",
       "      <td id=\"T_c5049_row6_col27\" class=\"data row6 col27\" >0.000000</td>\n",
       "      <td id=\"T_c5049_row6_col28\" class=\"data row6 col28\" >255.000000</td>\n",
       "      <td id=\"T_c5049_row6_col29\" class=\"data row6 col29\" >255.000000</td>\n",
       "      <td id=\"T_c5049_row6_col30\" class=\"data row6 col30\" >1.000000</td>\n",
       "      <td id=\"T_c5049_row6_col31\" class=\"data row6 col31\" >0.070000</td>\n",
       "      <td id=\"T_c5049_row6_col32\" class=\"data row6 col32\" >0.060000</td>\n",
       "      <td id=\"T_c5049_row6_col33\" class=\"data row6 col33\" >0.020000</td>\n",
       "      <td id=\"T_c5049_row6_col34\" class=\"data row6 col34\" >1.000000</td>\n",
       "      <td id=\"T_c5049_row6_col35\" class=\"data row6 col35\" >1.000000</td>\n",
       "      <td id=\"T_c5049_row6_col36\" class=\"data row6 col36\" >0.000000</td>\n",
       "      <td id=\"T_c5049_row6_col37\" class=\"data row6 col37\" >0.000000</td>\n",
       "      <td id=\"T_c5049_row6_col38\" class=\"data row6 col38\" >21.000000</td>\n",
       "    </tr>\n",
       "    <tr>\n",
       "      <th id=\"T_c5049_level0_row7\" class=\"row_heading level0 row7\" >max</th>\n",
       "      <td id=\"T_c5049_row7_col0\" class=\"data row7 col0\" >42908.000000</td>\n",
       "      <td id=\"T_c5049_row7_col1\" class=\"data row7 col1\" >1379963888.000000</td>\n",
       "      <td id=\"T_c5049_row7_col2\" class=\"data row7 col2\" >1309937401.000000</td>\n",
       "      <td id=\"T_c5049_row7_col3\" class=\"data row7 col3\" >1.000000</td>\n",
       "      <td id=\"T_c5049_row7_col4\" class=\"data row7 col4\" >3.000000</td>\n",
       "      <td id=\"T_c5049_row7_col5\" class=\"data row7 col5\" >3.000000</td>\n",
       "      <td id=\"T_c5049_row7_col6\" class=\"data row7 col6\" >77.000000</td>\n",
       "      <td id=\"T_c5049_row7_col7\" class=\"data row7 col7\" >5.000000</td>\n",
       "      <td id=\"T_c5049_row7_col8\" class=\"data row7 col8\" >1.000000</td>\n",
       "      <td id=\"T_c5049_row7_col9\" class=\"data row7 col9\" >7479.000000</td>\n",
       "      <td id=\"T_c5049_row7_col10\" class=\"data row7 col10\" >1.000000</td>\n",
       "      <td id=\"T_c5049_row7_col11\" class=\"data row7 col11\" >2.000000</td>\n",
       "      <td id=\"T_c5049_row7_col12\" class=\"data row7 col12\" >7468.000000</td>\n",
       "      <td id=\"T_c5049_row7_col13\" class=\"data row7 col13\" >43.000000</td>\n",
       "      <td id=\"T_c5049_row7_col14\" class=\"data row7 col14\" >2.000000</td>\n",
       "      <td id=\"T_c5049_row7_col15\" class=\"data row7 col15\" >9.000000</td>\n",
       "      <td id=\"T_c5049_row7_col16\" class=\"data row7 col16\" >0.000000</td>\n",
       "      <td id=\"T_c5049_row7_col17\" class=\"data row7 col17\" >1.000000</td>\n",
       "      <td id=\"T_c5049_row7_col18\" class=\"data row7 col18\" >1.000000</td>\n",
       "      <td id=\"T_c5049_row7_col19\" class=\"data row7 col19\" >511.000000</td>\n",
       "      <td id=\"T_c5049_row7_col20\" class=\"data row7 col20\" >511.000000</td>\n",
       "      <td id=\"T_c5049_row7_col21\" class=\"data row7 col21\" >1.000000</td>\n",
       "      <td id=\"T_c5049_row7_col22\" class=\"data row7 col22\" >1.000000</td>\n",
       "      <td id=\"T_c5049_row7_col23\" class=\"data row7 col23\" >1.000000</td>\n",
       "      <td id=\"T_c5049_row7_col24\" class=\"data row7 col24\" >1.000000</td>\n",
       "      <td id=\"T_c5049_row7_col25\" class=\"data row7 col25\" >1.000000</td>\n",
       "      <td id=\"T_c5049_row7_col26\" class=\"data row7 col26\" >1.000000</td>\n",
       "      <td id=\"T_c5049_row7_col27\" class=\"data row7 col27\" >1.000000</td>\n",
       "      <td id=\"T_c5049_row7_col28\" class=\"data row7 col28\" >255.000000</td>\n",
       "      <td id=\"T_c5049_row7_col29\" class=\"data row7 col29\" >255.000000</td>\n",
       "      <td id=\"T_c5049_row7_col30\" class=\"data row7 col30\" >1.000000</td>\n",
       "      <td id=\"T_c5049_row7_col31\" class=\"data row7 col31\" >1.000000</td>\n",
       "      <td id=\"T_c5049_row7_col32\" class=\"data row7 col32\" >1.000000</td>\n",
       "      <td id=\"T_c5049_row7_col33\" class=\"data row7 col33\" >1.000000</td>\n",
       "      <td id=\"T_c5049_row7_col34\" class=\"data row7 col34\" >1.000000</td>\n",
       "      <td id=\"T_c5049_row7_col35\" class=\"data row7 col35\" >1.000000</td>\n",
       "      <td id=\"T_c5049_row7_col36\" class=\"data row7 col36\" >1.000000</td>\n",
       "      <td id=\"T_c5049_row7_col37\" class=\"data row7 col37\" >1.000000</td>\n",
       "      <td id=\"T_c5049_row7_col38\" class=\"data row7 col38\" >21.000000</td>\n",
       "    </tr>\n",
       "  </tbody>\n",
       "</table>\n"
      ],
      "text/plain": [
       "<pandas.io.formats.style.Styler at 0x7f2a83473450>"
      ]
     },
     "execution_count": 8,
     "metadata": {},
     "output_type": "execute_result"
    }
   ],
   "source": [
    "data_train.describe().style.background_gradient(cmap='Blues').set_properties(**{'font-family':'Segoe UI'})"
   ]
  },
  {
   "cell_type": "code",
   "execution_count": 9,
   "id": "54517845",
   "metadata": {
    "execution": {
     "iopub.execute_input": "2022-09-16T14:45:40.005626Z",
     "iopub.status.busy": "2022-09-16T14:45:40.005097Z",
     "iopub.status.idle": "2022-09-16T14:45:40.043081Z",
     "shell.execute_reply": "2022-09-16T14:45:40.042044Z"
    },
    "papermill": {
     "duration": 0.056305,
     "end_time": "2022-09-16T14:45:40.046327",
     "exception": false,
     "start_time": "2022-09-16T14:45:39.990022",
     "status": "completed"
    },
    "tags": []
   },
   "outputs": [],
   "source": [
    "data_train.loc[data_train['outcome'] == \"normal\", \"outcome\"] = 'normal'\n",
    "data_train.loc[data_train['outcome'] != 'normal', \"outcome\"] = 'attack'"
   ]
  },
  {
   "cell_type": "code",
   "execution_count": 10,
   "id": "7f3d5e5f",
   "metadata": {
    "execution": {
     "iopub.execute_input": "2022-09-16T14:45:40.078686Z",
     "iopub.status.busy": "2022-09-16T14:45:40.077509Z",
     "iopub.status.idle": "2022-09-16T14:45:40.084999Z",
     "shell.execute_reply": "2022-09-16T14:45:40.083786Z"
    },
    "papermill": {
     "duration": 0.02702,
     "end_time": "2022-09-16T14:45:40.087698",
     "exception": false,
     "start_time": "2022-09-16T14:45:40.060678",
     "status": "completed"
    },
    "tags": []
   },
   "outputs": [],
   "source": [
    "def pie_plot(df, cols_list, rows, cols):\n",
    "    fig, axes = plt.subplots(rows, cols)\n",
    "    for ax, col in zip(axes.ravel(), cols_list):\n",
    "        df[col].value_counts().plot(ax=ax, kind='pie', figsize=(15, 15), fontsize=10, autopct='%1.0f%%')\n",
    "        ax.set_title(str(col), fontsize = 12)\n",
    "    plt.show()"
   ]
  },
  {
   "cell_type": "code",
   "execution_count": 11,
   "id": "21de1afb",
   "metadata": {
    "execution": {
     "iopub.execute_input": "2022-09-16T14:45:40.117111Z",
     "iopub.status.busy": "2022-09-16T14:45:40.115688Z",
     "iopub.status.idle": "2022-09-16T14:45:40.400211Z",
     "shell.execute_reply": "2022-09-16T14:45:40.398361Z"
    },
    "papermill": {
     "duration": 0.303705,
     "end_time": "2022-09-16T14:45:40.404727",
     "exception": false,
     "start_time": "2022-09-16T14:45:40.101022",
     "status": "completed"
    },
    "tags": []
   },
   "outputs": [
    {
     "data": {
      "image/png": "[encoded data removed]",
      "text/plain": [
       "<Figure size 1080x1080 with 2 Axes>"
      ]
     },
     "metadata": {},
     "output_type": "display_data"
    }
   ],
   "source": [
    "pie_plot(data_train, ['protocol_type', 'outcome'], 1, 2)"
   ]
  },
  {
   "cell_type": "markdown",
   "id": "95c98b7b",
   "metadata": {
    "papermill": {
     "duration": 0.013595,
     "end_time": "2022-09-16T14:45:40.454415",
     "exception": false,
     "start_time": "2022-09-16T14:45:40.440820",
     "status": "completed"
    },
    "tags": []
   },
   "source": [
    "## Preprocessing the data"
   ]
  },
  {
   "cell_type": "code",
   "execution_count": 12,
   "id": "7437db6f",
   "metadata": {
    "execution": {
     "iopub.execute_input": "2022-09-16T14:45:40.485521Z",
     "iopub.status.busy": "2022-09-16T14:45:40.484714Z",
     "iopub.status.idle": "2022-09-16T14:45:40.490093Z",
     "shell.execute_reply": "2022-09-16T14:45:40.489091Z"
    },
    "papermill": {
     "duration": 0.023467,
     "end_time": "2022-09-16T14:45:40.492589",
     "exception": false,
     "start_time": "2022-09-16T14:45:40.469122",
     "status": "completed"
    },
    "tags": []
   },
   "outputs": [],
   "source": [
    "def Scaling(df_num, cols):\n",
    "    std_scaler = RobustScaler()\n",
    "    std_scaler_temp = std_scaler.fit_transform(df_num)\n",
    "    std_df = pd.DataFrame(std_scaler_temp, columns =cols)\n",
    "    return std_df"
   ]
  },
  {
   "cell_type": "code",
   "execution_count": 13,
   "id": "dc858a05",
   "metadata": {
    "execution": {
     "iopub.execute_input": "2022-09-16T14:45:40.522777Z",
     "iopub.status.busy": "2022-09-16T14:45:40.521883Z",
     "iopub.status.idle": "2022-09-16T14:45:40.529428Z",
     "shell.execute_reply": "2022-09-16T14:45:40.528500Z"
    },
    "papermill": {
     "duration": 0.025717,
     "end_time": "2022-09-16T14:45:40.532148",
     "exception": false,
     "start_time": "2022-09-16T14:45:40.506431",
     "status": "completed"
    },
    "tags": []
   },
   "outputs": [],
   "source": [
    "cat_cols = ['is_host_login','protocol_type','service','flag','land', 'logged_in','is_guest_login', 'level', 'outcome']\n",
    "def preprocess(dataframe):\n",
    "    df_num = dataframe.drop(cat_cols, axis=1)\n",
    "    num_cols = df_num.columns\n",
    "    scaled_df = Scaling(df_num, num_cols)\n",
    "    \n",
    "    dataframe.drop(labels=num_cols, axis=\"columns\", inplace=True)\n",
    "    dataframe[num_cols] = scaled_df[num_cols]\n",
    "    \n",
    "    dataframe.loc[dataframe['outcome'] == \"normal\", \"outcome\"] = 0\n",
    "    dataframe.loc[dataframe['outcome'] != 0, \"outcome\"] = 1\n",
    "    \n",
    "    dataframe = pd.get_dummies(dataframe, columns = ['protocol_type', 'service', 'flag'])\n",
    "    return dataframe"
   ]
  },
  {
   "cell_type": "code",
   "execution_count": 14,
   "id": "5716ceba",
   "metadata": {
    "execution": {
     "iopub.execute_input": "2022-09-16T14:45:40.563656Z",
     "iopub.status.busy": "2022-09-16T14:45:40.562799Z",
     "iopub.status.idle": "2022-09-16T14:45:41.098094Z",
     "shell.execute_reply": "2022-09-16T14:45:41.096749Z"
    },
    "papermill": {
     "duration": 0.554801,
     "end_time": "2022-09-16T14:45:41.101276",
     "exception": false,
     "start_time": "2022-09-16T14:45:40.546475",
     "status": "completed"
    },
    "tags": []
   },
   "outputs": [],
   "source": [
    "scaled_train = preprocess(data_train)"
   ]
  },
  {
   "cell_type": "code",
   "execution_count": 15,
   "id": "09d3d0b5",
   "metadata": {
    "execution": {
     "iopub.execute_input": "2022-09-16T14:45:41.160368Z",
     "iopub.status.busy": "2022-09-16T14:45:41.159853Z",
     "iopub.status.idle": "2022-09-16T14:45:44.625029Z",
     "shell.execute_reply": "2022-09-16T14:45:44.623398Z"
    },
    "papermill": {
     "duration": 3.48589,
     "end_time": "2022-09-16T14:45:44.628923",
     "exception": false,
     "start_time": "2022-09-16T14:45:41.143033",
     "status": "completed"
    },
    "scrolled": true,
    "tags": []
   },
   "outputs": [
    {
     "name": "stdout",
     "output_type": "stream",
     "text": [
      "Number of original features is 122 and of reduced features is 20\n"
     ]
    }
   ],
   "source": [
    "x = scaled_train.drop(['outcome', 'level'] , axis = 1).values\n",
    "y = scaled_train['outcome'].values\n",
    "y_reg = scaled_train['level'].values\n",
    "\n",
    "pca = PCA(n_components=20)\n",
    "pca = pca.fit(x)\n",
    "x_reduced = pca.transform(x)\n",
    "print(\"Number of original features is {} and of reduced features is {}\".format(x.shape[1], x_reduced.shape[1]))\n",
    "\n",
    "y = y.astype('int')\n",
    "x_train, x_test, y_train, y_test = train_test_split(x, y, test_size=0.2, random_state=42)\n",
    "x_train_reduced, x_test_reduced, y_train_reduced, y_test_reduced = train_test_split(x_reduced, y, test_size=0.2, random_state=42)\n",
    "x_train_reg, x_test_reg, y_train_reg, y_test_reg = train_test_split(x, y_reg, test_size=0.2, random_state=42)"
   ]
  },
  {
   "cell_type": "code",
   "execution_count": 16,
   "id": "e0f628e9",
   "metadata": {
    "execution": {
     "iopub.execute_input": "2022-09-16T14:45:44.673054Z",
     "iopub.status.busy": "2022-09-16T14:45:44.672456Z",
     "iopub.status.idle": "2022-09-16T14:45:44.686272Z",
     "shell.execute_reply": "2022-09-16T14:45:44.684957Z"
    },
    "papermill": {
     "duration": 0.039335,
     "end_time": "2022-09-16T14:45:44.689396",
     "exception": false,
     "start_time": "2022-09-16T14:45:44.650061",
     "status": "completed"
    },
    "tags": []
   },
   "outputs": [],
   "source": [
    "kernal_evals = dict()\n",
    "def evaluate_classification(model, name, X_train, X_test, y_train, y_test):\n",
    "    train_accuracy = metrics.accuracy_score(y_train, model.predict(X_train))\n",
    "    test_accuracy = metrics.accuracy_score(y_test, model.predict(X_test))\n",
    "    \n",
    "    train_precision = metrics.precision_score(y_train, model.predict(X_train))\n",
    "    test_precision = metrics.precision_score(y_test, model.predict(X_test))\n",
    "    \n",
    "    train_recall = metrics.recall_score(y_train, model.predict(X_train))\n",
    "    test_recall = metrics.recall_score(y_test, model.predict(X_test))\n",
    "    \n",
    "    kernal_evals[str(name)] = [train_accuracy, test_accuracy, train_precision, test_precision, train_recall, test_recall]\n",
    "    print(\"Training Accuracy \" + str(name) + \" {}  Test Accuracy \".format(train_accuracy*100) + str(name) + \" {}\".format(test_accuracy*100))\n",
    "    print(\"Training Precesion \" + str(name) + \" {}  Test Precesion \".format(train_precision*100) + str(name) + \" {}\".format(test_precision*100))\n",
    "    print(\"Training Recall \" + str(name) + \" {}  Test Recall \".format(train_recall*100) + str(name) + \" {}\".format(test_recall*100))\n",
    "    \n",
    "    actual = y_test\n",
    "    predicted = model.predict(X_test)\n",
    "    confusion_matrix = metrics.confusion_matrix(actual, predicted)\n",
    "    cm_display = metrics.ConfusionMatrixDisplay(confusion_matrix = confusion_matrix, display_labels = ['normal', 'attack'])\n",
    "\n",
    "    fig, ax = plt.subplots(figsize=(10,10))\n",
    "    ax.grid(False)\n",
    "    cm_display.plot(ax=ax)"
   ]
  },
  {
   "cell_type": "code",
   "execution_count": 17,
   "id": "a7320252",
   "metadata": {
    "execution": {
     "iopub.execute_input": "2022-09-16T14:45:44.802045Z",
     "iopub.status.busy": "2022-09-16T14:45:44.801156Z",
     "iopub.status.idle": "2022-09-16T14:45:51.254826Z",
     "shell.execute_reply": "2022-09-16T14:45:51.253734Z"
    },
    "papermill": {
     "duration": 6.472468,
     "end_time": "2022-09-16T14:45:51.257328",
     "exception": false,
     "start_time": "2022-09-16T14:45:44.784860",
     "status": "completed"
    },
    "tags": []
   },
   "outputs": [
    {
     "name": "stdout",
     "output_type": "stream",
     "text": [
      "Training Accuracy Logistic Regression 87.97443861198488  Test Accuracy Logistic Regression 87.62452867632466\n",
      "Training Precesion Logistic Regression 83.81338426160502  Test Precesion Logistic Regression 83.56894553881807\n",
      "Training Recall Logistic Regression 91.85621836355482  Test Recall Logistic Regression 91.60809552036582\n"
     ]
    },
    {
     "data": {
      "image/png": "[encoded data removed]",
      "text/plain": [
       "<Figure size 720x720 with 2 Axes>"
      ]
     },
     "metadata": {
      "needs_background": "light"
     },
     "output_type": "display_data"
    }
   ],
   "source": [
    "lr = LogisticRegression().fit(x_train, y_train)\n",
    "evaluate_classification(lr, \"Logistic Regression\", x_train, x_test, y_train, y_test)"
   ]
  },
  {
   "cell_type": "code",
   "execution_count": 18,
   "id": "174202ce",
   "metadata": {
    "execution": {
     "iopub.execute_input": "2022-09-16T14:45:51.316943Z",
     "iopub.status.busy": "2022-09-16T14:45:51.315705Z",
     "iopub.status.idle": "2022-09-16T15:02:29.104107Z",
     "shell.execute_reply": "2022-09-16T15:02:29.102591Z"
    },
    "papermill": {
     "duration": 997.821505,
     "end_time": "2022-09-16T15:02:29.121500",
     "exception": false,
     "start_time": "2022-09-16T14:45:51.299995",
     "status": "completed"
    },
    "tags": []
   },
   "outputs": [
    {
     "name": "stdout",
     "output_type": "stream",
     "text": [
      "Training Accuracy KNeighborsClassifier 99.05236313841452  Test Accuracy KNeighborsClassifier 98.93629688430245\n",
      "Training Precesion KNeighborsClassifier 99.22512234910276  Test Precesion KNeighborsClassifier 99.05636317266003\n",
      "Training Recall KNeighborsClassifier 98.73133850195424  Test Recall KNeighborsClassifier 98.67050554661698\n"
     ]
    },
    {
     "data": {
      "image/png": "[encoded data removed]",
      "text/plain": [
       "<Figure size 720x720 with 2 Axes>"
      ]
     },
     "metadata": {
      "needs_background": "light"
     },
     "output_type": "display_data"
    }
   ],
   "source": [
    "knn = KNeighborsClassifier(n_neighbors=20).fit(x_train, y_train)\n",
    "evaluate_classification(knn, \"KNeighborsClassifier\", x_train, x_test, y_train, y_test)"
   ]
  },
  {
   "cell_type": "code",
   "execution_count": 19,
   "id": "a69b13bb",
   "metadata": {
    "execution": {
     "iopub.execute_input": "2022-09-16T15:02:29.183460Z",
     "iopub.status.busy": "2022-09-16T15:02:29.182946Z",
     "iopub.status.idle": "2022-09-16T15:02:30.604414Z",
     "shell.execute_reply": "2022-09-16T15:02:30.602993Z"
    },
    "papermill": {
     "duration": 1.443489,
     "end_time": "2022-09-16T15:02:30.609660",
     "exception": false,
     "start_time": "2022-09-16T15:02:29.166171",
     "status": "completed"
    },
    "tags": []
   },
   "outputs": [
    {
     "name": "stdout",
     "output_type": "stream",
     "text": [
      "Training Accuracy GaussianNB 91.80269307480874  Test Accuracy GaussianNB 91.60547727723754\n",
      "Training Precesion GaussianNB 92.62657528189256  Test Precesion GaussianNB 92.53246753246754\n",
      "Training Recall GaussianNB 89.47907990004485  Test Recall GaussianNB 89.29629943263613\n"
     ]
    },
    {
     "data": {
      "image/png": "[encoded data removed]",
      "text/plain": [
       "<Figure size 720x720 with 2 Axes>"
      ]
     },
     "metadata": {
      "needs_background": "light"
     },
     "output_type": "display_data"
    }
   ],
   "source": [
    "gnb = GaussianNB().fit(x_train, y_train)\n",
    "evaluate_classification(gnb, \"GaussianNB\", x_train, x_test, y_train, y_test)"
   ]
  },
  {
   "cell_type": "code",
   "execution_count": 20,
   "id": "29aed8ad",
   "metadata": {
    "execution": {
     "iopub.execute_input": "2022-09-16T15:02:30.675988Z",
     "iopub.status.busy": "2022-09-16T15:02:30.674671Z",
     "iopub.status.idle": "2022-09-16T15:02:58.018616Z",
     "shell.execute_reply": "2022-09-16T15:02:58.017050Z"
    },
    "papermill": {
     "duration": 27.364109,
     "end_time": "2022-09-16T15:02:58.021916",
     "exception": false,
     "start_time": "2022-09-16T15:02:30.657807",
     "status": "completed"
    },
    "tags": []
   },
   "outputs": [],
   "source": [
    "lin_svc = svm.LinearSVC().fit(x_train, y_train)"
   ]
  },
  {
   "cell_type": "code",
   "execution_count": 21,
   "id": "c737c067",
   "metadata": {
    "execution": {
     "iopub.execute_input": "2022-09-16T15:02:58.055442Z",
     "iopub.status.busy": "2022-09-16T15:02:58.054936Z",
     "iopub.status.idle": "2022-09-16T15:02:58.757400Z",
     "shell.execute_reply": "2022-09-16T15:02:58.755831Z"
    },
    "papermill": {
     "duration": 0.72242,
     "end_time": "2022-09-16T15:02:58.760166",
     "exception": false,
     "start_time": "2022-09-16T15:02:58.037746",
     "status": "completed"
    },
    "tags": []
   },
   "outputs": [
    {
     "name": "stdout",
     "output_type": "stream",
     "text": [
      "Training Accuracy Linear SVC(LBasedImpl) 97.48454508469194  Test Accuracy Linear SVC(LBasedImpl) 97.28914467156183\n",
      "Training Precesion Linear SVC(LBasedImpl) 97.85399377593362  Test Precesion Linear SVC(LBasedImpl) 97.54700854700855\n",
      "Training Recall Linear SVC(LBasedImpl) 96.70660601012366  Test Recall Linear SVC(LBasedImpl) 96.64662545516131\n"
     ]
    },
    {
     "data": {
      "image/png": "[encoded data removed]",
      "text/plain": [
       "<Figure size 720x720 with 2 Axes>"
      ]
     },
     "metadata": {
      "needs_background": "light"
     },
     "output_type": "display_data"
    }
   ],
   "source": [
    "evaluate_classification(lin_svc, \"Linear SVC(LBasedImpl)\", x_train, x_test, y_train, y_test)"
   ]
  },
  {
   "cell_type": "code",
   "execution_count": 22,
   "id": "68e9e8c4",
   "metadata": {
    "execution": {
     "iopub.execute_input": "2022-09-16T15:02:58.826177Z",
     "iopub.status.busy": "2022-09-16T15:02:58.825724Z",
     "iopub.status.idle": "2022-09-16T15:03:03.347034Z",
     "shell.execute_reply": "2022-09-16T15:03:03.346107Z"
    },
    "papermill": {
     "duration": 4.540957,
     "end_time": "2022-09-16T15:03:03.349354",
     "exception": false,
     "start_time": "2022-09-16T15:02:58.808397",
     "status": "completed"
    },
    "tags": []
   },
   "outputs": [
    {
     "name": "stdout",
     "output_type": "stream",
     "text": [
      "Training Accuracy DecisionTreeClassifier 99.99404626055548  Test Accuracy DecisionTreeClassifier 99.86902163127604\n",
      "Training Precesion DecisionTreeClassifier 100.0  Test Precesion DecisionTreeClassifier 99.84761259735862\n",
      "Training Recall DecisionTreeClassifier 99.98718523739348  Test Recall DecisionTreeClassifier 99.87297823693793\n"
     ]
    },
    {
     "data": {
      "image/png": "[encoded data removed]",
      "text/plain": [
       "<Figure size 720x720 with 2 Axes>"
      ]
     },
     "metadata": {
      "needs_background": "light"
     },
     "output_type": "display_data"
    }
   ],
   "source": [
    "dt = DecisionTreeClassifier(max_depth=3).fit(x_train, y_train)\n",
    "tdt = DecisionTreeClassifier().fit(x_train, y_train)\n",
    "evaluate_classification(tdt, \"DecisionTreeClassifier\", x_train, x_test, y_train, y_test)"
   ]
  },
  {
   "cell_type": "code",
   "execution_count": 23,
   "id": "2089e011",
   "metadata": {
    "execution": {
     "iopub.execute_input": "2022-09-16T15:03:03.384391Z",
     "iopub.status.busy": "2022-09-16T15:03:03.383941Z",
     "iopub.status.idle": "2022-09-16T15:03:03.707941Z",
     "shell.execute_reply": "2022-09-16T15:03:03.706636Z"
    },
    "papermill": {
     "duration": 0.344481,
     "end_time": "2022-09-16T15:03:03.710517",
     "exception": false,
     "start_time": "2022-09-16T15:03:03.366036",
     "status": "completed"
    },
    "tags": []
   },
   "outputs": [
    {
     "data": {
      "image/png": "[encoded data removed]",
      "text/plain": [
       "<Figure size 720x720 with 1 Axes>"
      ]
     },
     "metadata": {
      "needs_background": "light"
     },
     "output_type": "display_data"
    }
   ],
   "source": [
    "def f_importances(coef, names, top=-1):\n",
    "    imp = coef\n",
    "    imp, names = zip(*sorted(list(zip(imp, names))))\n",
    "\n",
    "    # Show all features\n",
    "    if top == -1:\n",
    "        top = len(names)\n",
    "    \n",
    "    plt.figure(figsize=(10,10))\n",
    "    plt.barh(range(top), imp[::-1][0:top], align='center')\n",
    "    plt.yticks(range(top), names[::-1][0:top])\n",
    "    plt.title('feature importances for Decision Tree')\n",
    "    plt.show()\n",
    "\n",
    "features_names = data_train.drop(['outcome', 'level'] , axis = 1)\n",
    "f_importances(abs(tdt.feature_importances_), features_names, top=18)"
   ]
  },
  {
   "cell_type": "code",
   "execution_count": 25,
   "id": "ef43ac5a",
   "metadata": {
    "execution": {
     "iopub.execute_input": "2022-09-16T15:03:04.826243Z",
     "iopub.status.busy": "2022-09-16T15:03:04.825794Z",
     "iopub.status.idle": "2022-09-16T15:03:27.867392Z",
     "shell.execute_reply": "2022-09-16T15:03:27.866093Z"
    },
    "papermill": {
     "duration": 23.064575,
     "end_time": "2022-09-16T15:03:27.870017",
     "exception": false,
     "start_time": "2022-09-16T15:03:04.805442",
     "status": "completed"
    },
    "tags": []
   },
   "outputs": [
    {
     "name": "stdout",
     "output_type": "stream",
     "text": [
      "Training Accuracy RandomForestClassifier 99.99404626055548  Test Accuracy RandomForestClassifier 99.87695971422902\n",
      "Training Precesion RandomForestClassifier 99.9914571898426  Test Precesion RandomForestClassifier 99.9321688994404\n",
      "Training Recall RandomForestClassifier 99.99572841246449  Test Recall RandomForestClassifier 99.80523329663816\n"
     ]
    },
    {
     "data": {
      "image/png": "[encoded data removed]",
      "text/plain": [
       "<Figure size 720x720 with 2 Axes>"
      ]
     },
     "metadata": {
      "needs_background": "light"
     },
     "output_type": "display_data"
    }
   ],
   "source": [
    "rf = RandomForestClassifier().fit(x_train, y_train)\n",
    "evaluate_classification(rf, \"RandomForestClassifier\", x_train, x_test, y_train, y_test)"
   ]
  },
  {
   "cell_type": "code",
   "execution_count": 26,
   "id": "dcdc708f",
   "metadata": {
    "execution": {
     "iopub.execute_input": "2022-09-16T15:03:27.911822Z",
     "iopub.status.busy": "2022-09-16T15:03:27.911294Z",
     "iopub.status.idle": "2022-09-16T15:03:28.227748Z",
     "shell.execute_reply": "2022-09-16T15:03:28.226366Z"
    },
    "papermill": {
     "duration": 0.341272,
     "end_time": "2022-09-16T15:03:28.230810",
     "exception": false,
     "start_time": "2022-09-16T15:03:27.889538",
     "status": "completed"
    },
    "tags": []
   },
   "outputs": [
    {
     "data": {
      "image/png": "[encoded data removed]",
      "text/plain": [
       "<Figure size 720x720 with 1 Axes>"
      ]
     },
     "metadata": {
      "needs_background": "light"
     },
     "output_type": "display_data"
    }
   ],
   "source": [
    "f_importances(abs(rf.feature_importances_), features_names, top=18)"
   ]
  },
  {
   "cell_type": "markdown",
   "id": "425199f6",
   "metadata": {
    "papermill": {
     "duration": 0.019916,
     "end_time": "2022-09-16T15:03:28.270866",
     "exception": false,
     "start_time": "2022-09-16T15:03:28.250950",
     "status": "completed"
    },
    "tags": []
   },
   "source": [
    "## Building an XGBOOST REgressor regressor in order to predict threat level"
   ]
  },
  {
   "cell_type": "code",
   "execution_count": 27,
   "id": "6999868c",
   "metadata": {
    "execution": {
     "iopub.execute_input": "2022-09-16T15:03:28.313698Z",
     "iopub.status.busy": "2022-09-16T15:03:28.312984Z",
     "iopub.status.idle": "2022-09-16T15:03:34.781623Z",
     "shell.execute_reply": "2022-09-16T15:03:34.780214Z"
    },
    "papermill": {
     "duration": 6.494267,
     "end_time": "2022-09-16T15:03:34.784968",
     "exception": false,
     "start_time": "2022-09-16T15:03:28.290701",
     "status": "completed"
    },
    "tags": []
   },
   "outputs": [
    {
     "name": "stdout",
     "output_type": "stream",
     "text": [
      "[15:03:28] WARNING: ../src/objective/regression_obj.cu:203: reg:linear is now deprecated in favor of reg:squarederror.\n"
     ]
    }
   ],
   "source": [
    "xg_r = xgb.XGBRegressor(objective ='reg:linear',n_estimators = 20).fit(x_train_reg, y_train_reg)"
   ]
  },
  {
   "cell_type": "code",
   "execution_count": 28,
   "id": "d2c142b9",
   "metadata": {
    "execution": {
     "iopub.execute_input": "2022-09-16T15:03:34.827531Z",
     "iopub.status.busy": "2022-09-16T15:03:34.826351Z",
     "iopub.status.idle": "2022-09-16T15:03:34.941479Z",
     "shell.execute_reply": "2022-09-16T15:03:34.940449Z"
    },
    "papermill": {
     "duration": 0.139688,
     "end_time": "2022-09-16T15:03:34.944529",
     "exception": false,
     "start_time": "2022-09-16T15:03:34.804841",
     "status": "completed"
    },
    "tags": []
   },
   "outputs": [
    {
     "name": "stdout",
     "output_type": "stream",
     "text": [
      "Training Error XGBOOST 0.9467538200777741  Test error XGBOOST 1.006973984055062\n"
     ]
    }
   ],
   "source": [
    "name = \"XGBOOST\"\n",
    "train_error = metrics.mean_squared_error(y_train_reg, xg_r.predict(x_train_reg), squared=False)\n",
    "test_error = metrics.mean_squared_error(y_test_reg, xg_r.predict(x_test_reg), squared=False)\n",
    "print(\"Training Error \" + str(name) + \" {}  Test error \".format(train_error) + str(name) + \" {}\".format(test_error))"
   ]
  },
  {
   "cell_type": "code",
   "execution_count": 29,
   "id": "b9da75b4",
   "metadata": {
    "execution": {
     "iopub.execute_input": "2022-09-16T15:03:34.988287Z",
     "iopub.status.busy": "2022-09-16T15:03:34.986993Z",
     "iopub.status.idle": "2022-09-16T15:03:35.313836Z",
     "shell.execute_reply": "2022-09-16T15:03:35.312618Z"
    },
    "papermill": {
     "duration": 0.351366,
     "end_time": "2022-09-16T15:03:35.316958",
     "exception": false,
     "start_time": "2022-09-16T15:03:34.965592",
     "status": "completed"
    },
    "tags": []
   },
   "outputs": [
    {
     "data": {
      "text/plain": [
       "<matplotlib.legend.Legend at 0x7f2a821ba4d0>"
      ]
     },
     "execution_count": 29,
     "metadata": {},
     "output_type": "execute_result"
    },
    {
     "data": {
      "image/png": "[encoded data removed]",
      "text/plain": [
       "<Figure size 1152x576 with 1 Axes>"
      ]
     },
     "metadata": {
      "needs_background": "light"
     },
     "output_type": "display_data"
    }
   ],
   "source": [
    "y_pred = xg_r.predict(x_test_reg)\n",
    "df = pd.DataFrame({\"Y_test\": y_test_reg , \"Y_pred\" : y_pred})\n",
    "plt.figure(figsize=(16,8))\n",
    "plt.plot(df[:80])\n",
    "plt.legend(['Actual' , 'Predicted'])"
   ]
  },
  {
   "cell_type": "markdown",
   "id": "1e720664",
   "metadata": {
    "papermill": {
     "duration": 0.021353,
     "end_time": "2022-09-16T15:03:35.359769",
     "exception": false,
     "start_time": "2022-09-16T15:03:35.338416",
     "status": "completed"
    },
    "tags": []
   },
   "source": [
    "## Measuring effect of PCA"
   ]
  },
  {
   "cell_type": "code",
   "execution_count": 30,
   "id": "4e2a045a",
   "metadata": {
    "execution": {
     "iopub.execute_input": "2022-09-16T15:03:35.405401Z",
     "iopub.status.busy": "2022-09-16T15:03:35.404529Z",
     "iopub.status.idle": "2022-09-16T15:04:39.178250Z",
     "shell.execute_reply": "2022-09-16T15:04:39.176570Z"
    },
    "papermill": {
     "duration": 63.800087,
     "end_time": "2022-09-16T15:04:39.181510",
     "exception": false,
     "start_time": "2022-09-16T15:03:35.381423",
     "status": "completed"
    },
    "tags": []
   },
   "outputs": [
    {
     "name": "stdout",
     "output_type": "stream",
     "text": [
      "Training Accuracy PCA RandomForest 99.99404626055548  Test Accuracy PCA RandomForest 99.82139313355825\n",
      "Training Precesion PCA RandomForest 99.9914571898426  Test Precesion PCA RandomForest 99.8982015609094\n",
      "Training Recall PCA RandomForest 99.99572841246449  Test Recall PCA RandomForest 99.72055212126344\n"
     ]
    },
    {
     "data": {
      "image/png": "[encoded data removed]",
      "text/plain": [
       "<Figure size 720x720 with 2 Axes>"
      ]
     },
     "metadata": {
      "needs_background": "light"
     },
     "output_type": "display_data"
    }
   ],
   "source": [
    "rrf = RandomForestClassifier().fit(x_train_reduced, y_train_reduced)\n",
    "evaluate_classification(rrf, \"PCA RandomForest\", x_train_reduced, x_test_reduced, y_train_reduced, y_test_reduced)"
   ]
  },
  {
   "cell_type": "code",
   "execution_count": 36,
   "id": "61728750",
   "metadata": {
    "execution": {
     "iopub.execute_input": "2022-09-16T15:08:12.318756Z",
     "iopub.status.busy": "2022-09-16T15:08:12.317915Z",
     "iopub.status.idle": "2022-09-16T15:08:12.560742Z",
     "shell.execute_reply": "2022-09-16T15:08:12.559519Z"
    },
    "papermill": {
     "duration": 0.497211,
     "end_time": "2022-09-16T15:08:12.563235",
     "exception": false,
     "start_time": "2022-09-16T15:08:12.066024",
     "status": "completed"
    },
    "tags": []
   },
   "outputs": [
    {
     "data": {
      "image/png": "[encoded data removed]",
      "text/plain": [
       "<Figure size 432x288 with 1 Axes>"
      ]
     },
     "metadata": {
      "needs_background": "light"
     },
     "output_type": "display_data"
    }
   ],
   "source": [
    "plt.plot(history.history['loss'], label='loss')\n",
    "plt.plot(history.history['val_loss'], label='val_loss')\n",
    "plt.xlabel('Epoch')\n",
    "plt.ylabel('SCCE Loss')\n",
    "plt.legend()\n",
    "plt.grid(True)"
   ]
  },
  {
   "cell_type": "code",
   "execution_count": 37,
   "id": "e773d474",
   "metadata": {
    "execution": {
     "iopub.execute_input": "2022-09-16T15:08:13.062939Z",
     "iopub.status.busy": "2022-09-16T15:08:13.062117Z",
     "iopub.status.idle": "2022-09-16T15:08:13.310838Z",
     "shell.execute_reply": "2022-09-16T15:08:13.309633Z"
    },
    "papermill": {
     "duration": 0.502436,
     "end_time": "2022-09-16T15:08:13.313157",
     "exception": false,
     "start_time": "2022-09-16T15:08:12.810721",
     "status": "completed"
    },
    "scrolled": true,
    "tags": []
   },
   "outputs": [
    {
     "data": {
      "image/png": "[encoded data removed]",
      "text/plain": [
       "<Figure size 432x288 with 1 Axes>"
      ]
     },
     "metadata": {
      "needs_background": "light"
     },
     "output_type": "display_data"
    }
   ],
   "source": [
    "plt.plot(history.history['accuracy'], label='accuracy')\n",
    "plt.plot(history.history['val_accuracy'], label='val_accuracy')\n",
    "plt.xlabel('Epoch')\n",
    "plt.ylabel('Accuracy')\n",
    "plt.legend()\n",
    "plt.grid(True)"
   ]
  },
  {
   "cell_type": "code",
   "execution_count": 38,
   "id": "8f5c0126",
   "metadata": {
    "execution": {
     "iopub.execute_input": "2022-09-16T15:08:13.883988Z",
     "iopub.status.busy": "2022-09-16T15:08:13.883503Z",
     "iopub.status.idle": "2022-09-16T15:08:14.166506Z",
     "shell.execute_reply": "2022-09-16T15:08:14.165280Z"
    },
    "papermill": {
     "duration": 0.609647,
     "end_time": "2022-09-16T15:08:14.169350",
     "exception": false,
     "start_time": "2022-09-16T15:08:13.559703",
     "status": "completed"
    },
    "tags": []
   },
   "outputs": [
    {
     "data": {
      "image/png": "[encoded data removed]",
      "text/plain": [
       "<Figure size 1440x432 with 1 Axes>"
      ]
     },
     "metadata": {
      "needs_background": "light"
     },
     "output_type": "display_data"
    }
   ],
   "source": [
    "keys = [key for key in kernal_evals.keys()]\n",
    "values = [value for value in kernal_evals.values()]\n",
    "fig, ax = plt.subplots(figsize=(20, 6))\n",
    "ax.bar(np.arange(len(keys)) - 0.2, [value[0] for value in values], color='darkred', width=0.25, align='center')\n",
    "ax.bar(np.arange(len(keys)) + 0.2, [value[1] for value in values], color='y', width=0.25, align='center')\n",
    "ax.legend([\"Training Accuracy\", \"Test Accuracy\"])\n",
    "ax.set_xticklabels(keys)\n",
    "ax.set_xticks(np.arange(len(keys)))\n",
    "plt.ylabel(\"Accuracy\")\n",
    "plt.show()"
   ]
  },
  {
   "cell_type": "code",
   "execution_count": 39,
   "id": "34d7e1ed",
   "metadata": {
    "execution": {
     "iopub.execute_input": "2022-09-16T15:08:14.675366Z",
     "iopub.status.busy": "2022-09-16T15:08:14.674140Z",
     "iopub.status.idle": "2022-09-16T15:08:14.959067Z",
     "shell.execute_reply": "2022-09-16T15:08:14.957657Z"
    },
    "papermill": {
     "duration": 0.54329,
     "end_time": "2022-09-16T15:08:14.962285",
     "exception": false,
     "start_time": "2022-09-16T15:08:14.418995",
     "status": "completed"
    },
    "tags": []
   },
   "outputs": [
    {
     "data": {
      "image/png": "[encoded data removed]",
      "text/plain": [
       "<Figure size 1440x432 with 1 Axes>"
      ]
     },
     "metadata": {
      "needs_background": "light"
     },
     "output_type": "display_data"
    }
   ],
   "source": [
    "keys = [key for key in kernal_evals.keys()]\n",
    "values = [value for value in kernal_evals.values()]\n",
    "fig, ax = plt.subplots(figsize=(20, 6))\n",
    "ax.bar(np.arange(len(keys)) - 0.2, [value[2] for value in values], color='g', width=0.25, align='center')\n",
    "ax.bar(np.arange(len(keys)) + 0.2, [value[3] for value in values], color='b', width=0.25, align='center')\n",
    "ax.legend([\"Training Precesion\", \"Test Presision\"])\n",
    "ax.set_xticklabels(keys)\n",
    "ax.set_xticks(np.arange(len(keys)))\n",
    "plt.ylabel(\"Precesion\")\n",
    "plt.show()"
   ]
  },
  {
   "cell_type": "code",
   "execution_count": 40,
   "id": "fb3ff2dd",
   "metadata": {
    "execution": {
     "iopub.execute_input": "2022-09-16T15:08:15.463608Z",
     "iopub.status.busy": "2022-09-16T15:08:15.463124Z",
     "iopub.status.idle": "2022-09-16T15:08:15.733118Z",
     "shell.execute_reply": "2022-09-16T15:08:15.731777Z"
    },
    "papermill": {
     "duration": 0.520643,
     "end_time": "2022-09-16T15:08:15.736057",
     "exception": false,
     "start_time": "2022-09-16T15:08:15.215414",
     "status": "completed"
    },
    "tags": []
   },
   "outputs": [
    {
     "data": {
      "image/png": "[encoded data removed]",
      "text/plain": [
       "<Figure size 1440x432 with 1 Axes>"
      ]
     },
     "metadata": {
      "needs_background": "light"
     },
     "output_type": "display_data"
    }
   ],
   "source": [
    "keys = [key for key in kernal_evals.keys()]\n",
    "values = [value for value in kernal_evals.values()]\n",
    "fig, ax = plt.subplots(figsize=(20, 6))\n",
    "ax.bar(np.arange(len(keys)) - 0.2, [value[2] for value in values], color='g', width=0.25, align='center')\n",
    "ax.bar(np.arange(len(keys)) + 0.2, [value[3] for value in values], color='b', width=0.25, align='center')\n",
    "ax.legend([\"Training Recall\", \"Test Recall\"])\n",
    "ax.set_xticklabels(keys)\n",
    "ax.set_xticks(np.arange(len(keys)))\n",
    "plt.ylabel(\"Recall\")\n",
    "plt.show()"
   ]
  }
 ],
 "metadata": {
  "kernelspec": {
   "display_name": "Python 3 (ipykernel)",
   "language": "python",
   "name": "python3"
  },
  "language_info": {
   "codemirror_mode": {
    "name": "ipython",
    "version": 3
   },
   "file_extension": ".py",
   "mimetype": "text/x-python",
   "name": "python",
   "nbconvert_exporter": "python",
   "pygments_lexer": "ipython3",
   "version": "3.10.2"
  },
  "papermill": {
   "default_parameters": {},
   "duration": 1381.233936,
   "end_time": "2022-09-16T15:08:19.123972",
   "environment_variables": {},
   "exception": null,
   "input_path": "__notebook__.ipynb",
   "output_path": "__notebook__.ipynb",
   "parameters": {},
   "start_time": "2022-09-16T14:45:17.890036",
   "version": "2.3.4"
  }
 },
 "nbformat": 4,
 "nbformat_minor": 5
}
